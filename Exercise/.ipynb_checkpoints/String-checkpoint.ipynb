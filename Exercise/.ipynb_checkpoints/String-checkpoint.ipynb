{
 "cells": [
  {
   "cell_type": "markdown",
   "id": "premium-richards",
   "metadata": {},
   "source": [
    "## 1. Python program to check whether the string is Symmetrical or Palindrome -- 10th Nov 2022"
   ]
  },
  {
   "cell_type": "markdown",
   "id": "subtle-gibraltar",
   "metadata": {},
   "source": [
    "### Method 1: Using Function"
   ]
  },
  {
   "cell_type": "code",
   "execution_count": null,
   "id": "pointed-dressing",
   "metadata": {},
   "outputs": [],
   "source": [
    "def Palindrome(str):\n",
    "    if str==str[::-1]:\n",
    "        return print(\"{} String is palindrome\".format(str))\n",
    "    else:\n",
    "        return print(\"{1}String is not palindrome\".format(1:str))"
   ]
  },
  {
   "cell_type": "code",
   "execution_count": null,
   "id": "environmental-surveillance",
   "metadata": {},
   "outputs": [],
   "source": [
    "str=input(\"Hey user! please provide the string :  \")"
   ]
  },
  {
   "cell_type": "code",
   "execution_count": null,
   "id": "executed-palmer",
   "metadata": {},
   "outputs": [],
   "source": [
    "Palindrome(var)"
   ]
  },
  {
   "cell_type": "code",
   "execution_count": null,
   "id": "handmade-guyana",
   "metadata": {},
   "outputs": [],
   "source": []
  }
 ],
 "metadata": {
  "kernelspec": {
   "display_name": "Python 3",
   "language": "python",
   "name": "python3"
  },
  "language_info": {
   "codemirror_mode": {
    "name": "ipython",
    "version": 3
   },
   "file_extension": ".py",
   "mimetype": "text/x-python",
   "name": "python",
   "nbconvert_exporter": "python",
   "pygments_lexer": "ipython3",
   "version": "3.9.1"
  }
 },
 "nbformat": 4,
 "nbformat_minor": 5
}
