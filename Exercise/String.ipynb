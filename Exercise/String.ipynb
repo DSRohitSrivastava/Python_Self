{
 "cells": [
  {
   "cell_type": "markdown",
   "id": "local-homeless",
   "metadata": {},
   "source": [
    "## 1. Python program to check whether the string is Symmetrical or Palindrome -- 10th Nov 2022"
   ]
  },
  {
   "cell_type": "markdown",
   "id": "ruled-prior",
   "metadata": {},
   "source": [
    "### Method 1: Using Function ( Inbuild function)"
   ]
  },
  {
   "cell_type": "code",
   "execution_count": 38,
   "id": "prospective-jurisdiction",
   "metadata": {},
   "outputs": [],
   "source": [
    "def palindrome(var):\n",
    "    if var==var[::-1]: # ''.join(reversed(second_str)) [slower]\n",
    "        return print(\"{} String is palindrome\".format(var,23))\n",
    "    else:\n",
    "        return print(\"{var} String is not palindrome\".format(var=var))"
   ]
  },
  {
   "cell_type": "code",
   "execution_count": 29,
   "id": "invalid-broad",
   "metadata": {},
   "outputs": [
    {
     "name": "stdout",
     "output_type": "stream",
     "text": [
      "Hey user! please provide the string: \t\n"
     ]
    }
   ],
   "source": [
    "str1=(input(\"Hey user! please provide the string: \\t\"))"
   ]
  },
  {
   "cell_type": "code",
   "execution_count": 30,
   "id": "controversial-canada",
   "metadata": {},
   "outputs": [
    {
     "name": "stdout",
     "output_type": "stream",
     "text": [
      " String is palindrome\n"
     ]
    }
   ],
   "source": [
    "palindrome(str1.lstrip().rstrip())"
   ]
  },
  {
   "cell_type": "markdown",
   "id": "insured-ideal",
   "metadata": {},
   "source": [
    "-----------------------------------------------"
   ]
  },
  {
   "cell_type": "markdown",
   "id": "quantitative-bronze",
   "metadata": {},
   "source": [
    "### Method 2 : Without Function"
   ]
  },
  {
   "cell_type": "code",
   "execution_count": 33,
   "id": "final-importance",
   "metadata": {},
   "outputs": [
    {
     "name": "stdout",
     "output_type": "stream",
     "text": [
      "Hey user! please provide the string: \t   44\n",
      "\n",
      "44 String is palindrome\n"
     ]
    }
   ],
   "source": [
    "str1=(input(\"Hey user! please provide the string: \\t\")).lstrip().rstrip()\n",
    "if str1==str1[::-1]:\n",
    "    print(\"\\n{} String is palindrome\".format(str1,23))\n",
    "else:\n",
    "    print(\"\\n{var} String is not palindrome\".format(var=str1))"
   ]
  },
  {
   "cell_type": "markdown",
   "id": "seventh-centre",
   "metadata": {},
   "source": [
    "--------------------------------------------------"
   ]
  },
  {
   "cell_type": "markdown",
   "id": "billion-functionality",
   "metadata": {},
   "source": [
    "### Method 3: Using Function( without inbuild function)"
   ]
  },
  {
   "cell_type": "code",
   "execution_count": 37,
   "id": "vital-brooks",
   "metadata": {},
   "outputs": [
    {
     "name": "stdout",
     "output_type": "stream",
     "text": [
      "Hey user! please provide the string: \t  34\n",
      "34 string is not symmertical\n"
     ]
    }
   ],
   "source": [
    "str1=(input(\"Hey user! please provide the string: \\t\")).lstrip().rstrip()\n",
    "half = int(len(str1) / 2)\n",
    "\n",
    "if len(str1) % 2 == 0: # even\n",
    "    first_str = str1[:half]\n",
    "    second_str = str1[half:]\n",
    "else: # odd\n",
    "    first_str = str1[:half]\n",
    "    second_str = str1[half+1:]\n",
    "\n",
    "# symmetric\n",
    "if first_str == second_str:\n",
    "    print(str1, 'string is palindrome')\n",
    "else:\n",
    "    print(str1, 'string is not symmertical')\n"
   ]
  },
  {
   "cell_type": "markdown",
   "id": "knowing-elimination",
   "metadata": {},
   "source": [
    "## 2. Reverse words in a given String in Python\n",
    "Input : str =\" geeks quiz practice code\" <BR>\n",
    "Output : str = code practice quiz geeks <BR> <BR> \n",
    "Input : str = \"my name is laxmi\"<BR>\n",
    "output : str= laxmi is name my "
   ]
  },
  {
   "cell_type": "code",
   "execution_count": 61,
   "id": "agreed-citizen",
   "metadata": {},
   "outputs": [
    {
     "name": "stdout",
     "output_type": "stream",
     "text": [
      "Hey user! please provide the string: \tI AM ROHIT\n",
      "String after reversing words : \tROHIT AM I\n"
     ]
    }
   ],
   "source": [
    "var_str=(input(\"Hey user! please provide the string: \\t\")).lstrip().rstrip()\n",
    "splt_str=var_str.split(\" \")[::-1]\n",
    "print(\"String after reversing words : \\t\" +' '.join(splt_str))"
   ]
  },
  {
   "cell_type": "code",
   "execution_count": 63,
   "id": "arranged-ceremony",
   "metadata": {},
   "outputs": [
    {
     "name": "stdout",
     "output_type": "stream",
     "text": [
      "Hey user! please provide the string: \tI AM ROHIT\n",
      "ROHIT AM I\n"
     ]
    }
   ],
   "source": [
    "var_str=(input(\"Hey user! please provide the string: \\t\")).lstrip().rstrip()\n",
    "splt_str=var_str.split(\" \")[::-1]\n",
    "l = []\n",
    "for i in splt_str:\n",
    "    # apending reversed words to l\n",
    "    l.append(i)\n",
    "# printing reverse words\n",
    "print(\" \".join(l))"
   ]
  },
  {
   "cell_type": "markdown",
   "id": "novel-street",
   "metadata": {},
   "source": [
    "## 3. Ways to remove i’th character from string in Python\n",
    "\n",
    "String = \"I AM ROHIT \" <BR>\n",
    "loc =6\n",
    "\n",
    "Output == \"I M ROHIT\""
   ]
  },
  {
   "cell_type": "code",
   "execution_count": 93,
   "id": "characteristic-small",
   "metadata": {},
   "outputs": [
    {
     "name": "stdout",
     "output_type": "stream",
     "text": [
      "Hey user! please provide the string: \tI M \n",
      "Character you want to remove from which location \t2\n",
      "The string after removal of i'th character : I \n"
     ]
    }
   ],
   "source": [
    "test_str = (input(\"Hey user! please provide the string: \\t\")).lstrip().rstrip()\n",
    "loc= int(input(\"Character you want to remove from which location \\t\")) ######\n",
    "# Removing char at pos 3\n",
    "new_str = \"\"\n",
    "\n",
    "for i in range(len(test_str)):\n",
    "\tif i != loc:\n",
    "\t\tnew_str = new_str + test_str[i]\n",
    "\n",
    "# Printing string after removal\n",
    "print (\"The string after removal of i'th character : \" + new_str)\n"
   ]
  },
  {
   "cell_type": "code",
   "execution_count": 94,
   "id": "artificial-swing",
   "metadata": {},
   "outputs": [
    {
     "data": {
      "text/plain": [
       "int"
      ]
     },
     "execution_count": 94,
     "metadata": {},
     "output_type": "execute_result"
    }
   ],
   "source": [
    "type(loc)"
   ]
  },
  {
   "cell_type": "code",
   "execution_count": 96,
   "id": "senior-danish",
   "metadata": {},
   "outputs": [
    {
     "data": {
      "text/plain": [
       "False"
      ]
     },
     "execution_count": 96,
     "metadata": {},
     "output_type": "execute_result"
    }
   ],
   "source": [
    "2==\"2\""
   ]
  },
  {
   "cell_type": "code",
   "execution_count": 97,
   "id": "worse-hampton",
   "metadata": {},
   "outputs": [
    {
     "data": {
      "text/plain": [
       "True"
      ]
     },
     "execution_count": 97,
     "metadata": {},
     "output_type": "execute_result"
    }
   ],
   "source": [
    "2==2"
   ]
  },
  {
   "cell_type": "markdown",
   "id": "parliamentary-cleveland",
   "metadata": {},
   "source": [
    "## 4. Print characters and their frequencies in order of occurrence"
   ]
  },
  {
   "cell_type": "markdown",
   "id": "regional-genome",
   "metadata": {},
   "source": [
    "### Simple print"
   ]
  },
  {
   "cell_type": "code",
   "execution_count": 74,
   "id": "incomplete-manner",
   "metadata": {},
   "outputs": [
    {
     "name": "stdout",
     "output_type": "stream",
     "text": [
      "Hey user! please provide the string: \tHI AM ROHIT SRIVASTAVA\n"
     ]
    }
   ],
   "source": [
    "test_str = (input(\"Hey user! please provide the string: \\t\")).lstrip().rstrip()"
   ]
  },
  {
   "cell_type": "code",
   "execution_count": 77,
   "id": "presidential-there",
   "metadata": {},
   "outputs": [
    {
     "name": "stdout",
     "output_type": "stream",
     "text": [
      " H : 2\t \n",
      " I : 3\t \n",
      "   : 3\t \n",
      " A : 4\t \n",
      " M : 1\t \n",
      "   : 3\t \n",
      " R : 2\t \n",
      " O : 1\t \n",
      " H : 2\t \n",
      " I : 3\t \n",
      " T : 2\t \n",
      "   : 3\t \n",
      " S : 2\t \n",
      " R : 2\t \n",
      " I : 3\t \n",
      " V : 2\t \n",
      " A : 4\t \n",
      " S : 2\t \n",
      " T : 2\t \n",
      " A : 4\t \n",
      " V : 2\t \n",
      " A : 4\t \n"
     ]
    }
   ],
   "source": [
    "for item in test_str:\n",
    "    item_count=test_str.count(item)\n",
    "    print(\" {item} : {item_count}\\t\".format(item=item, item_count=item_count))\n",
    "    "
   ]
  },
  {
   "cell_type": "markdown",
   "id": "smoking-marking",
   "metadata": {},
   "source": [
    "### Result in dictonary"
   ]
  },
  {
   "cell_type": "code",
   "execution_count": 80,
   "id": "sudden-bikini",
   "metadata": {},
   "outputs": [],
   "source": [
    "char_dic={}\n",
    "for item in test_str:\n",
    "    item_count=test_str.count(item)\n",
    "    char_dic[item]=item_count\n",
    "    "
   ]
  },
  {
   "cell_type": "code",
   "execution_count": 81,
   "id": "enabling-heather",
   "metadata": {},
   "outputs": [
    {
     "name": "stdout",
     "output_type": "stream",
     "text": [
      "{'H': 2, 'I': 3, ' ': 3, 'A': 4, 'M': 1, 'R': 2, 'O': 1, 'T': 2, 'S': 2, 'V': 2}\n"
     ]
    }
   ],
   "source": [
    "print(char_dic)"
   ]
  },
  {
   "cell_type": "code",
   "execution_count": 83,
   "id": "infinite-textbook",
   "metadata": {},
   "outputs": [
    {
     "data": {
      "text/plain": [
       "True"
      ]
     },
     "execution_count": 83,
     "metadata": {},
     "output_type": "execute_result"
    }
   ],
   "source": [
    "'r' in \"range\""
   ]
  },
  {
   "cell_type": "code",
   "execution_count": 84,
   "id": "featured-graphic",
   "metadata": {},
   "outputs": [
    {
     "data": {
      "text/plain": [
       "True"
      ]
     },
     "execution_count": 84,
     "metadata": {},
     "output_type": "execute_result"
    }
   ],
   "source": [
    "\"range\" in \"range\""
   ]
  },
  {
   "cell_type": "code",
   "execution_count": 86,
   "id": "adjusted-czech",
   "metadata": {},
   "outputs": [
    {
     "data": {
      "text/plain": [
       "True"
      ]
     },
     "execution_count": 86,
     "metadata": {},
     "output_type": "execute_result"
    }
   ],
   "source": [
    "\"range\" == \"range\""
   ]
  },
  {
   "cell_type": "code",
   "execution_count": 87,
   "id": "bright-publicity",
   "metadata": {},
   "outputs": [
    {
     "ename": "NameError",
     "evalue": "name 'Slicing' is not defined",
     "output_type": "error",
     "traceback": [
      "\u001b[1;31m---------------------------------------------------------------------------\u001b[0m",
      "\u001b[1;31mNameError\u001b[0m                                 Traceback (most recent call last)",
      "\u001b[1;32m<ipython-input-87-5857e7b55417>\u001b[0m in \u001b[0;36m<module>\u001b[1;34m\u001b[0m\n\u001b[1;32m----> 1\u001b[1;33m \u001b[0mSlicing\u001b[0m\u001b[1;33m\u001b[0m\u001b[1;33m\u001b[0m\u001b[0m\n\u001b[0m",
      "\u001b[1;31mNameError\u001b[0m: name 'Slicing' is not defined"
     ]
    }
   ],
   "source": [
    "Slicing"
   ]
  },
  {
   "cell_type": "code",
   "execution_count": 105,
   "id": "perfect-fancy",
   "metadata": {},
   "outputs": [
    {
     "data": {
      "text/plain": [
       "''"
      ]
     },
     "execution_count": 105,
     "metadata": {},
     "output_type": "execute_result"
    }
   ],
   "source": [
    "\"Hello\"[-1:-2]"
   ]
  },
  {
   "cell_type": "code",
   "execution_count": 107,
   "id": "apparent-imperial",
   "metadata": {},
   "outputs": [
    {
     "data": {
      "text/plain": [
       "'el'"
      ]
     },
     "execution_count": 107,
     "metadata": {},
     "output_type": "execute_result"
    }
   ],
   "source": [
    "\"Hello\"[1:3]"
   ]
  },
  {
   "cell_type": "code",
   "execution_count": 108,
   "id": "superior-progress",
   "metadata": {},
   "outputs": [
    {
     "data": {
      "text/plain": [
       "True"
      ]
     },
     "execution_count": 108,
     "metadata": {},
     "output_type": "execute_result"
    }
   ],
   "source": [
    "\"r\" in \"range\""
   ]
  },
  {
   "cell_type": "code",
   "execution_count": 109,
   "id": "descending-daughter",
   "metadata": {},
   "outputs": [
    {
     "data": {
      "text/plain": [
       "range(0, 5)"
      ]
     },
     "execution_count": 109,
     "metadata": {},
     "output_type": "execute_result"
    }
   ],
   "source": [
    "range(len(\"range\"))"
   ]
  },
  {
   "cell_type": "code",
   "execution_count": 113,
   "id": "acting-berlin",
   "metadata": {},
   "outputs": [
    {
     "data": {
      "text/plain": [
       "True"
      ]
     },
     "execution_count": 113,
     "metadata": {},
     "output_type": "execute_result"
    }
   ],
   "source": [
    "\"I\" in \"I am \""
   ]
  },
  {
   "cell_type": "code",
   "execution_count": 112,
   "id": "front-canon",
   "metadata": {},
   "outputs": [
    {
     "data": {
      "text/plain": [
       "True"
      ]
     },
     "execution_count": 112,
     "metadata": {},
     "output_type": "execute_result"
    }
   ],
   "source": [
    "\" \".isspace()"
   ]
  },
  {
   "cell_type": "code",
   "execution_count": 114,
   "id": "plain-syria",
   "metadata": {},
   "outputs": [],
   "source": [
    "str1=\"temp\""
   ]
  },
  {
   "cell_type": "code",
   "execution_count": 121,
   "id": "regular-syracuse",
   "metadata": {},
   "outputs": [
    {
     "ename": "TypeError",
     "evalue": "'str' object does not support item assignment",
     "output_type": "error",
     "traceback": [
      "\u001b[1;31m---------------------------------------------------------------------------\u001b[0m",
      "\u001b[1;31mTypeError\u001b[0m                                 Traceback (most recent call last)",
      "\u001b[1;32m<ipython-input-121-562d74117cbb>\u001b[0m in \u001b[0;36m<module>\u001b[1;34m\u001b[0m\n\u001b[1;32m----> 1\u001b[1;33m \u001b[0mstr1\u001b[0m\u001b[1;33m[\u001b[0m\u001b[1;36m2\u001b[0m\u001b[1;33m]\u001b[0m\u001b[1;33m=\u001b[0m\u001b[1;34m\"M\"\u001b[0m\u001b[1;33m\u001b[0m\u001b[1;33m\u001b[0m\u001b[0m\n\u001b[0m",
      "\u001b[1;31mTypeError\u001b[0m: 'str' object does not support item assignment"
     ]
    }
   ],
   "source": [
    "str1[2]=\"M\""
   ]
  },
  {
   "cell_type": "code",
   "execution_count": null,
   "id": "charitable-groove",
   "metadata": {},
   "outputs": [],
   "source": []
  }
 ],
 "metadata": {
  "kernelspec": {
   "display_name": "Python 3",
   "language": "python",
   "name": "python3"
  },
  "language_info": {
   "codemirror_mode": {
    "name": "ipython",
    "version": 3
   },
   "file_extension": ".py",
   "mimetype": "text/x-python",
   "name": "python",
   "nbconvert_exporter": "python",
   "pygments_lexer": "ipython3",
   "version": "3.9.1"
  }
 },
 "nbformat": 4,
 "nbformat_minor": 5
}
