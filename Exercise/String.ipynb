{
 "cells": [
  {
   "cell_type": "markdown",
   "id": "czech-belgium",
   "metadata": {},
   "source": [
    "## 1. Python program to check whether the string is Symmetrical or Palindrome -- 10th Nov 2022"
   ]
  },
  {
   "cell_type": "markdown",
   "id": "integrated-meter",
   "metadata": {},
   "source": [
    "### Method 1: Using Function ( Inbuild function)"
   ]
  },
  {
   "cell_type": "code",
   "execution_count": 38,
   "id": "dense-treat",
   "metadata": {},
   "outputs": [],
   "source": [
    "def palindrome(var):\n",
    "    if var==var[::-1]: # ''.join(reversed(second_str)) [slower]\n",
    "        return print(\"{} String is palindrome\".format(var,23))\n",
    "    else:\n",
    "        return print(\"{var} String is not palindrome\".format(var=var))"
   ]
  },
  {
   "cell_type": "code",
   "execution_count": 29,
   "id": "invisible-vertex",
   "metadata": {},
   "outputs": [
    {
     "name": "stdout",
     "output_type": "stream",
     "text": [
      "Hey user! please provide the string: \t\n"
     ]
    }
   ],
   "source": [
    "str1=(input(\"Hey user! please provide the string: \\t\"))"
   ]
  },
  {
   "cell_type": "code",
   "execution_count": 30,
   "id": "moved-receiver",
   "metadata": {},
   "outputs": [
    {
     "name": "stdout",
     "output_type": "stream",
     "text": [
      " String is palindrome\n"
     ]
    }
   ],
   "source": [
    "palindrome(str1.lstrip().rstrip())"
   ]
  },
  {
   "cell_type": "markdown",
   "id": "applicable-range",
   "metadata": {},
   "source": [
    "-----------------------------------------------"
   ]
  },
  {
   "cell_type": "markdown",
   "id": "accepted-carter",
   "metadata": {},
   "source": [
    "### Method 2 : Without Function"
   ]
  },
  {
   "cell_type": "code",
   "execution_count": 33,
   "id": "unnecessary-mainland",
   "metadata": {},
   "outputs": [
    {
     "name": "stdout",
     "output_type": "stream",
     "text": [
      "Hey user! please provide the string: \t   44\n",
      "\n",
      "44 String is palindrome\n"
     ]
    }
   ],
   "source": [
    "str1=(input(\"Hey user! please provide the string: \\t\")).lstrip().rstrip()\n",
    "if str1==str1[::-1]:\n",
    "    print(\"\\n{} String is palindrome\".format(str1,23))\n",
    "else:\n",
    "    print(\"\\n{var} String is not palindrome\".format(var=str1))"
   ]
  },
  {
   "cell_type": "markdown",
   "id": "faced-hypothetical",
   "metadata": {},
   "source": [
    "--------------------------------------------------"
   ]
  },
  {
   "cell_type": "markdown",
   "id": "stone-swimming",
   "metadata": {},
   "source": [
    "### Method 3: Using Function( without inbuild function)"
   ]
  },
  {
   "cell_type": "code",
   "execution_count": 37,
   "id": "innovative-baking",
   "metadata": {},
   "outputs": [
    {
     "name": "stdout",
     "output_type": "stream",
     "text": [
      "Hey user! please provide the string: \t  34\n",
      "34 string is not symmertical\n"
     ]
    }
   ],
   "source": [
    "str1=(input(\"Hey user! please provide the string: \\t\")).lstrip().rstrip()\n",
    "half = int(len(str1) / 2)\n",
    "\n",
    "if len(str1) % 2 == 0: # even\n",
    "    first_str = str1[:half]\n",
    "    second_str = str1[half:]\n",
    "else: # odd\n",
    "    first_str = str1[:half]\n",
    "    second_str = str1[half+1:]\n",
    "\n",
    "# symmetric\n",
    "if first_str == second_str:\n",
    "    print(str1, 'string is palindrome')\n",
    "else:\n",
    "    print(str1, 'string is not symmertical')\n"
   ]
  },
  {
   "cell_type": "markdown",
   "id": "adverse-geography",
   "metadata": {},
   "source": [
    "## 2. Reverse words in a given String in Python\n",
    "Input : str =\" geeks quiz practice code\" <BR>\n",
    "Output : str = code practice quiz geeks <BR> <BR> \n",
    "Input : str = \"my name is laxmi\"<BR>\n",
    "output : str= laxmi is name my "
   ]
  },
  {
   "cell_type": "code",
   "execution_count": 61,
   "id": "creative-secretary",
   "metadata": {},
   "outputs": [
    {
     "name": "stdout",
     "output_type": "stream",
     "text": [
      "Hey user! please provide the string: \tI AM ROHIT\n",
      "String after reversing words : \tROHIT AM I\n"
     ]
    }
   ],
   "source": [
    "var_str=(input(\"Hey user! please provide the string: \\t\")).lstrip().rstrip()\n",
    "splt_str=var_str.split(\" \")[::-1]\n",
    "print(\"String after reversing words : \\t\" +' '.join(splt_str))"
   ]
  },
  {
   "cell_type": "code",
   "execution_count": 63,
   "id": "hundred-latino",
   "metadata": {},
   "outputs": [
    {
     "name": "stdout",
     "output_type": "stream",
     "text": [
      "Hey user! please provide the string: \tI AM ROHIT\n",
      "ROHIT AM I\n"
     ]
    }
   ],
   "source": [
    "var_str=(input(\"Hey user! please provide the string: \\t\")).lstrip().rstrip()\n",
    "splt_str=var_str.split(\" \")[::-1]\n",
    "l = []\n",
    "for i in splt_str:\n",
    "    # apending reversed words to l\n",
    "    l.append(i)\n",
    "# printing reverse words\n",
    "print(\" \".join(l))"
   ]
  },
  {
   "cell_type": "markdown",
   "id": "stupid-vampire",
   "metadata": {},
   "source": [
    "## 3. Ways to remove i’th character from string in Python"
   ]
  },
  {
   "cell_type": "code",
   "execution_count": 70,
   "id": "stainless-circuit",
   "metadata": {},
   "outputs": [
    {
     "name": "stdout",
     "output_type": "stream",
     "text": [
      "Hey user! please provide the string: \tI AM ROHIT\n",
      "Character you want to remove from which location \t\n",
      "The string after removal of i'th character : I AM ROHIT\n"
     ]
    }
   ],
   "source": [
    "test_str = (input(\"Hey user! please provide the string: \\t\")).lstrip().rstrip()\n",
    "loc= (input(\"Character you want to remove from which location \\t\")) ######\n",
    "# Removing char at pos 3\n",
    "new_str = \"\"\n",
    "\n",
    "for i in range(len(test_str)):\n",
    "\tif i != loc:\n",
    "\t\tnew_str = new_str + test_str[i]\n",
    "\n",
    "# Printing string after removal\n",
    "print (\"The string after removal of i'th character : \" + new_str)\n"
   ]
  },
  {
   "cell_type": "code",
   "execution_count": 71,
   "id": "spectacular-dynamics",
   "metadata": {},
   "outputs": [
    {
     "data": {
      "text/plain": [
       "str"
      ]
     },
     "execution_count": 71,
     "metadata": {},
     "output_type": "execute_result"
    }
   ],
   "source": [
    "type(loc)"
   ]
  },
  {
   "cell_type": "code",
   "execution_count": 73,
   "id": "engaging-penny",
   "metadata": {},
   "outputs": [
    {
     "data": {
      "text/plain": [
       "False"
      ]
     },
     "execution_count": 73,
     "metadata": {},
     "output_type": "execute_result"
    }
   ],
   "source": []
  },
  {
   "cell_type": "markdown",
   "id": "criminal-johnson",
   "metadata": {},
   "source": [
    "## 4. Print characters and their frequencies in order of occurrence"
   ]
  },
  {
   "cell_type": "markdown",
   "id": "economic-playing",
   "metadata": {},
   "source": [
    "### Simple print"
   ]
  },
  {
   "cell_type": "code",
   "execution_count": 74,
   "id": "close-counter",
   "metadata": {},
   "outputs": [
    {
     "name": "stdout",
     "output_type": "stream",
     "text": [
      "Hey user! please provide the string: \tHI AM ROHIT SRIVASTAVA\n"
     ]
    }
   ],
   "source": [
    "test_str = (input(\"Hey user! please provide the string: \\t\")).lstrip().rstrip()"
   ]
  },
  {
   "cell_type": "code",
   "execution_count": 77,
   "id": "coordinate-coordinate",
   "metadata": {},
   "outputs": [
    {
     "name": "stdout",
     "output_type": "stream",
     "text": [
      " H : 2\t \n",
      " I : 3\t \n",
      "   : 3\t \n",
      " A : 4\t \n",
      " M : 1\t \n",
      "   : 3\t \n",
      " R : 2\t \n",
      " O : 1\t \n",
      " H : 2\t \n",
      " I : 3\t \n",
      " T : 2\t \n",
      "   : 3\t \n",
      " S : 2\t \n",
      " R : 2\t \n",
      " I : 3\t \n",
      " V : 2\t \n",
      " A : 4\t \n",
      " S : 2\t \n",
      " T : 2\t \n",
      " A : 4\t \n",
      " V : 2\t \n",
      " A : 4\t \n"
     ]
    }
   ],
   "source": [
    "for item in test_str:\n",
    "    item_count=test_str.count(item)\n",
    "    print(\" {item} : {item_count}\\t\".format(item=item, item_count=item_count))\n",
    "    "
   ]
  },
  {
   "cell_type": "markdown",
   "id": "reserved-ancient",
   "metadata": {},
   "source": [
    "### Result in dictonary"
   ]
  },
  {
   "cell_type": "code",
   "execution_count": 80,
   "id": "statistical-begin",
   "metadata": {},
   "outputs": [],
   "source": [
    "char_dic={}\n",
    "for item in test_str:\n",
    "    item_count=test_str.count(item)\n",
    "    char_dic[item]=item_count\n",
    "    "
   ]
  },
  {
   "cell_type": "code",
   "execution_count": 81,
   "id": "overhead-polymer",
   "metadata": {},
   "outputs": [
    {
     "name": "stdout",
     "output_type": "stream",
     "text": [
      "{'H': 2, 'I': 3, ' ': 3, 'A': 4, 'M': 1, 'R': 2, 'O': 1, 'T': 2, 'S': 2, 'V': 2}\n"
     ]
    }
   ],
   "source": [
    "print(char_dic)"
   ]
  },
  {
   "cell_type": "code",
   "execution_count": 83,
   "id": "christian-warrior",
   "metadata": {},
   "outputs": [
    {
     "data": {
      "text/plain": [
       "True"
      ]
     },
     "execution_count": 83,
     "metadata": {},
     "output_type": "execute_result"
    }
   ],
   "source": [
    "'r' in \"range\""
   ]
  },
  {
   "cell_type": "code",
   "execution_count": 84,
   "id": "stone-channels",
   "metadata": {},
   "outputs": [
    {
     "data": {
      "text/plain": [
       "True"
      ]
     },
     "execution_count": 84,
     "metadata": {},
     "output_type": "execute_result"
    }
   ],
   "source": [
    "\"range\" in \"range\""
   ]
  },
  {
   "cell_type": "code",
   "execution_count": null,
   "id": "adequate-business",
   "metadata": {},
   "outputs": [],
   "source": []
  }
 ],
 "metadata": {
  "kernelspec": {
   "display_name": "Python 3",
   "language": "python",
   "name": "python3"
  },
  "language_info": {
   "codemirror_mode": {
    "name": "ipython",
    "version": 3
   },
   "file_extension": ".py",
   "mimetype": "text/x-python",
   "name": "python",
   "nbconvert_exporter": "python",
   "pygments_lexer": "ipython3",
   "version": "3.9.1"
  }
 },
 "nbformat": 4,
 "nbformat_minor": 5
}
