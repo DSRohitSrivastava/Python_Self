{
 "cells": [
  {
   "cell_type": "code",
   "execution_count": null,
   "id": "allied-infrastructure",
   "metadata": {},
   "outputs": [],
   "source": [
    "\n",
    "\n",
    "Ek table \n",
    "\n",
    "01 Conenction 01 -- 7 lines \n",
    "02 Create query and execute in SQl  03 Read from SQl --  -- 6 lines  lines \n",
    "04 Excel    - 2 lines \n",
    "\n"
   ]
  },
  {
   "cell_type": "code",
   "execution_count": null,
   "id": "animated-reputation",
   "metadata": {},
   "outputs": [],
   "source": [
    "For 1 to 55 \n",
    "\n",
    "01 Conenction 01 -- 7 lines \n",
    "02 Create query and execute in SQl  03 Read from SQl --  -- 6 lines  lines  -- Read from Txt, excel, \n",
    "04 Excel    - 2 lines "
   ]
  },
  {
   "cell_type": "code",
   "execution_count": null,
   "id": "literary-jungle",
   "metadata": {},
   "outputs": [],
   "source": [
    "Select * from tableA \n",
    "Select * from tableB\n",
    "Select * from tableC"
   ]
  }
 ],
 "metadata": {
  "kernelspec": {
   "display_name": "Python 3",
   "language": "python",
   "name": "python3"
  },
  "language_info": {
   "codemirror_mode": {
    "name": "ipython",
    "version": 3
   },
   "file_extension": ".py",
   "mimetype": "text/x-python",
   "name": "python",
   "nbconvert_exporter": "python",
   "pygments_lexer": "ipython3",
   "version": "3.9.1"
  }
 },
 "nbformat": 4,
 "nbformat_minor": 5
}
