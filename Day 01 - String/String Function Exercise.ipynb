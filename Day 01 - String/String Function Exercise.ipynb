{
 "cells": [
  {
   "cell_type": "markdown",
   "id": "interior-designer",
   "metadata": {},
   "source": [
    "# <font color ='green'> <center > Python - Lecture 01 - Exercise"
   ]
  },
  {
   "cell_type": "markdown",
   "id": "reserved-dylan",
   "metadata": {},
   "source": [
    "1. Write a Python program to calculate the length of a string"
   ]
  },
  {
   "cell_type": "code",
   "execution_count": null,
   "id": "loved-findings",
   "metadata": {},
   "outputs": [],
   "source": [
    "\n",
    "\n"
   ]
  },
  {
   "cell_type": "code",
   "execution_count": null,
   "id": "valuable-regulation",
   "metadata": {},
   "outputs": [],
   "source": [
    "\n",
    "\n"
   ]
  },
  {
   "cell_type": "markdown",
   "id": "stunning-broadway",
   "metadata": {},
   "source": [
    "2. Convert the lower case character to uppercase and viceversa.\n",
    "\n",
    "    String=\"Hi Please change me AccordiNG TO THE QUESTION\""
   ]
  },
  {
   "cell_type": "code",
   "execution_count": null,
   "id": "positive-somalia",
   "metadata": {},
   "outputs": [],
   "source": []
  },
  {
   "cell_type": "code",
   "execution_count": null,
   "id": "mental-appraisal",
   "metadata": {},
   "outputs": [],
   "source": []
  },
  {
   "cell_type": "markdown",
   "id": "incoming-cassette",
   "metadata": {},
   "source": [
    "3. Remove \"The\" text from the string to \"\" (empty).\n",
    "\n",
    "    String =\" The I The am THE From The The ThE NOIDA\". "
   ]
  },
  {
   "cell_type": "code",
   "execution_count": null,
   "id": "alternative-raising",
   "metadata": {},
   "outputs": [],
   "source": []
  },
  {
   "cell_type": "code",
   "execution_count": null,
   "id": "synthetic-wells",
   "metadata": {},
   "outputs": [],
   "source": []
  },
  {
   "cell_type": "markdown",
   "id": "cross-standard",
   "metadata": {},
   "source": [
    "4. Print the string  exactly same as mention below: <BR>\n",
    "    Hi , I'm here to Help you."
   ]
  },
  {
   "cell_type": "code",
   "execution_count": null,
   "id": "sized-grant",
   "metadata": {},
   "outputs": [],
   "source": []
  },
  {
   "cell_type": "code",
   "execution_count": null,
   "id": "minor-silence",
   "metadata": {},
   "outputs": [],
   "source": []
  },
  {
   "cell_type": "code",
   "execution_count": null,
   "id": "sound-spencer",
   "metadata": {},
   "outputs": [],
   "source": []
  },
  {
   "cell_type": "markdown",
   "id": "trained-clause",
   "metadata": {},
   "source": [
    "5. Print the string exactly same as mention below: <br>\n",
    "    My favourite line is \"It is what it is\"."
   ]
  },
  {
   "cell_type": "code",
   "execution_count": null,
   "id": "amber-representation",
   "metadata": {},
   "outputs": [],
   "source": []
  },
  {
   "cell_type": "code",
   "execution_count": null,
   "id": "vocational-german",
   "metadata": {},
   "outputs": [],
   "source": []
  },
  {
   "cell_type": "code",
   "execution_count": null,
   "id": "mineral-click",
   "metadata": {},
   "outputs": [],
   "source": [
    "\n"
   ]
  },
  {
   "cell_type": "markdown",
   "id": "neural-programmer",
   "metadata": {},
   "source": [
    "6. text = 'Python is a fun programming language'\n",
    "\n",
    "  Split this string into 4 parts"
   ]
  },
  {
   "cell_type": "code",
   "execution_count": null,
   "id": "understood-contact",
   "metadata": {},
   "outputs": [],
   "source": []
  },
  {
   "cell_type": "code",
   "execution_count": null,
   "id": "sophisticated-butterfly",
   "metadata": {},
   "outputs": [],
   "source": []
  },
  {
   "cell_type": "code",
   "execution_count": null,
   "id": "framed-establishment",
   "metadata": {},
   "outputs": [],
   "source": []
  },
  {
   "cell_type": "markdown",
   "id": "treated-affairs",
   "metadata": {},
   "source": [
    "7. difference between find and index ??"
   ]
  },
  {
   "cell_type": "code",
   "execution_count": null,
   "id": "fossil-ceramic",
   "metadata": {},
   "outputs": [],
   "source": [
    "\n"
   ]
  },
  {
   "cell_type": "code",
   "execution_count": null,
   "id": "recreational-virgin",
   "metadata": {},
   "outputs": [],
   "source": []
  },
  {
   "cell_type": "code",
   "execution_count": null,
   "id": "durable-central",
   "metadata": {},
   "outputs": [],
   "source": []
  },
  {
   "cell_type": "markdown",
   "id": "seventh-compensation",
   "metadata": {},
   "source": [
    "text = 'Python is a fun programming language' \n",
    "\n",
    "check existence of substring ??"
   ]
  },
  {
   "cell_type": "code",
   "execution_count": null,
   "id": "satisfactory-problem",
   "metadata": {},
   "outputs": [],
   "source": []
  }
 ],
 "metadata": {
  "kernelspec": {
   "display_name": "Python 3",
   "language": "python",
   "name": "python3"
  },
  "language_info": {
   "codemirror_mode": {
    "name": "ipython",
    "version": 3
   },
   "file_extension": ".py",
   "mimetype": "text/x-python",
   "name": "python",
   "nbconvert_exporter": "python",
   "pygments_lexer": "ipython3",
   "version": "3.9.1"
  }
 },
 "nbformat": 4,
 "nbformat_minor": 5
}
