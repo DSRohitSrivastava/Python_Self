{
 "cells": [
  {
   "cell_type": "markdown",
   "id": "interior-designer",
   "metadata": {},
   "source": [
    "# <font color ='green'> <center > Python - Lecture 01 - Exercise"
   ]
  },
  {
   "cell_type": "markdown",
   "id": "reserved-dylan",
   "metadata": {},
   "source": [
    "1. Write a Python program to calculate the length of a string"
   ]
  },
  {
   "cell_type": "code",
   "execution_count": 4,
   "id": "loved-findings",
   "metadata": {},
   "outputs": [],
   "source": [
    "var1='ABCDEF'\n"
   ]
  },
  {
   "cell_type": "code",
   "execution_count": 5,
   "id": "valuable-regulation",
   "metadata": {
    "scrolled": true
   },
   "outputs": [
    {
     "data": {
      "text/plain": [
       "6"
      ]
     },
     "execution_count": 5,
     "metadata": {},
     "output_type": "execute_result"
    }
   ],
   "source": [
    "len(var1)\n",
    "\n"
   ]
  },
  {
   "cell_type": "markdown",
   "id": "stunning-broadway",
   "metadata": {},
   "source": [
    "#2. Convert the lower case character to uppercase and viceversa.\n",
    "\n",
    "    String=\"Hi Please change me AccordiNG TO THE QUESTION\""
   ]
  },
  {
   "cell_type": "code",
   "execution_count": 10,
   "id": "positive-somalia",
   "metadata": {},
   "outputs": [],
   "source": [
    "string=\"Hi Please change me AccordiNG TO THE QUESTION\""
   ]
  },
  {
   "cell_type": "code",
   "execution_count": 11,
   "id": "mental-appraisal",
   "metadata": {},
   "outputs": [
    {
     "data": {
      "text/plain": [
       "'hi please change me according to the question'"
      ]
     },
     "execution_count": 11,
     "metadata": {},
     "output_type": "execute_result"
    }
   ],
   "source": [
    "string.lower()"
   ]
  },
  {
   "cell_type": "code",
   "execution_count": 17,
   "id": "internal-crash",
   "metadata": {},
   "outputs": [
    {
     "data": {
      "text/plain": [
       "'hi please change me according to the question'"
      ]
     },
     "execution_count": 17,
     "metadata": {},
     "output_type": "execute_result"
    }
   ],
   "source": [
    "string.upper().lower()"
   ]
  },
  {
   "cell_type": "code",
   "execution_count": 16,
   "id": "northern-filling",
   "metadata": {},
   "outputs": [
    {
     "data": {
      "text/plain": [
       "'Hi Please Change Me According To The Question'"
      ]
     },
     "execution_count": 16,
     "metadata": {},
     "output_type": "execute_result"
    }
   ],
   "source": [
    "string.casefold().title()"
   ]
  },
  {
   "cell_type": "code",
   "execution_count": 20,
   "id": "coordinated-parameter",
   "metadata": {},
   "outputs": [
    {
     "data": {
      "text/plain": [
       "'Hi please change me according to the question'"
      ]
     },
     "execution_count": 20,
     "metadata": {},
     "output_type": "execute_result"
    }
   ],
   "source": [
    "string.title().capitalize()"
   ]
  },
  {
   "cell_type": "markdown",
   "id": "incoming-cassette",
   "metadata": {},
   "source": [
    "3. Remove \"The\" text from the string to \"\" (empty).\n",
    "\n",
    "    String =\" The I The am THE From The The ThE NOIDA\". "
   ]
  },
  {
   "cell_type": "code",
   "execution_count": 22,
   "id": "alternative-raising",
   "metadata": {},
   "outputs": [],
   "source": [
    " string =\"The I The am THE From The The ThE NOIDA\""
   ]
  },
  {
   "cell_type": "code",
   "execution_count": 24,
   "id": "synthetic-wells",
   "metadata": {},
   "outputs": [
    {
     "data": {
      "text/plain": [
       "' I  am THE From   ThE NOIDA'"
      ]
     },
     "execution_count": 24,
     "metadata": {},
     "output_type": "execute_result"
    }
   ],
   "source": [
    "string.replace(\"The\", '')"
   ]
  },
  {
   "cell_type": "markdown",
   "id": "cross-standard",
   "metadata": {},
   "source": [
    "4. Print the string  exactly same as mention below: <BR>\n",
    "    Hi , I'm here to Help you."
   ]
  },
  {
   "cell_type": "code",
   "execution_count": 25,
   "id": "sized-grant",
   "metadata": {},
   "outputs": [
    {
     "name": "stdout",
     "output_type": "stream",
     "text": [
      "The I The am THE From The The ThE NOIDA\n"
     ]
    }
   ],
   "source": [
    "print(string)"
   ]
  },
  {
   "cell_type": "code",
   "execution_count": 30,
   "id": "minor-silence",
   "metadata": {},
   "outputs": [],
   "source": [
    "var3=\"Hi , I'm here to Help you.\""
   ]
  },
  {
   "cell_type": "code",
   "execution_count": 31,
   "id": "sound-spencer",
   "metadata": {},
   "outputs": [
    {
     "name": "stdout",
     "output_type": "stream",
     "text": [
      "Hi , I'm here to Help you.\n"
     ]
    }
   ],
   "source": [
    "print (var3)"
   ]
  },
  {
   "cell_type": "markdown",
   "id": "trained-clause",
   "metadata": {},
   "source": [
    "5. Print the string exactly same as mention below: <br>\n",
    "    My favourite line is \"It is what it is\"."
   ]
  },
  {
   "cell_type": "code",
   "execution_count": 32,
   "id": "amber-representation",
   "metadata": {},
   "outputs": [],
   "source": [
    "var4='My favourite line is \"It is what it is\".'"
   ]
  },
  {
   "cell_type": "code",
   "execution_count": 33,
   "id": "vocational-german",
   "metadata": {},
   "outputs": [
    {
     "name": "stdout",
     "output_type": "stream",
     "text": [
      "My favourite line is \"It is what it is\".\n"
     ]
    }
   ],
   "source": [
    "print(var4)"
   ]
  },
  {
   "cell_type": "code",
   "execution_count": 35,
   "id": "mineral-click",
   "metadata": {},
   "outputs": [
    {
     "name": "stdout",
     "output_type": "stream",
     "text": [
      "My favourite line is \"It is what it is\".\n"
     ]
    }
   ],
   "source": [
    "print('My favourite line is \"It is what it is\".')\n"
   ]
  },
  {
   "cell_type": "markdown",
   "id": "neural-programmer",
   "metadata": {},
   "source": [
    "6. text = 'Python is a fun programming language'\n",
    "\n",
    "  Split this string into 4 parts"
   ]
  },
  {
   "cell_type": "code",
   "execution_count": 45,
   "id": "understood-contact",
   "metadata": {},
   "outputs": [],
   "source": [
    "var6= 'Python is\\n a\\n fun\\n programming\\n language\\n'"
   ]
  },
  {
   "cell_type": "code",
   "execution_count": 46,
   "id": "sophisticated-butterfly",
   "metadata": {},
   "outputs": [
    {
     "data": {
      "text/plain": [
       "['Python is', ' a', ' fun', ' programming', ' language\\n']"
      ]
     },
     "execution_count": 46,
     "metadata": {},
     "output_type": "execute_result"
    }
   ],
   "source": [
    "var6.split('\\n', 4)"
   ]
  },
  {
   "cell_type": "code",
   "execution_count": null,
   "id": "framed-establishment",
   "metadata": {},
   "outputs": [],
   "source": []
  },
  {
   "cell_type": "markdown",
   "id": "treated-affairs",
   "metadata": {},
   "source": [
    "7. difference between find and index ??"
   ]
  },
  {
   "cell_type": "code",
   "execution_count": null,
   "id": "fossil-ceramic",
   "metadata": {},
   "outputs": [],
   "source": [
    "\n"
   ]
  },
  {
   "cell_type": "code",
   "execution_count": null,
   "id": "recreational-virgin",
   "metadata": {},
   "outputs": [],
   "source": []
  },
  {
   "cell_type": "code",
   "execution_count": null,
   "id": "durable-central",
   "metadata": {},
   "outputs": [],
   "source": []
  },
  {
   "cell_type": "markdown",
   "id": "seventh-compensation",
   "metadata": {},
   "source": [
    "text = 'Python is a fun programming language' \n",
    "\n",
    "check existence of substring ??"
   ]
  },
  {
   "cell_type": "code",
   "execution_count": null,
   "id": "satisfactory-problem",
   "metadata": {},
   "outputs": [],
   "source": []
  }
 ],
 "metadata": {
  "kernelspec": {
   "display_name": "Python 3",
   "language": "python",
   "name": "python3"
  },
  "language_info": {
   "codemirror_mode": {
    "name": "ipython",
    "version": 3
   },
   "file_extension": ".py",
   "mimetype": "text/x-python",
   "name": "python",
   "nbconvert_exporter": "python",
   "pygments_lexer": "ipython3",
   "version": "3.9.1"
  }
 },
 "nbformat": 4,
 "nbformat_minor": 5
}
