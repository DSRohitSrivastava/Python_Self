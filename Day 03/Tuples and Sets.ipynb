{
 "cells": [
  {
   "cell_type": "markdown",
   "id": "diagnostic-night",
   "metadata": {},
   "source": [
    "# <align-text :center >  Tuples"
   ]
  },
  {
   "cell_type": "markdown",
   "id": "hybrid-amazon",
   "metadata": {},
   "source": [
    "1.\n",
    "Tuple is similar to List except that the objects in tuple are immutable which means we cannotchange the elements of a tuple once assigned. <BR>\n",
    "2.\n",
    "When we do not want to change the data over time, tuple is a preferred data type. <BR>\n",
    "3.\n",
    "Iterating over the elements of a tuple is faster compared to iterating over a list. <BR>"
   ]
  },
  {
   "cell_type": "markdown",
   "id": "radical-things",
   "metadata": {},
   "source": [
    "### Tuple Creation"
   ]
  },
  {
   "cell_type": "code",
   "execution_count": null,
   "id": "manufactured-stack",
   "metadata": {},
   "outputs": [],
   "source": [
    "tup1=( A , B , C)\n",
    "id(tup1)"
   ]
  },
  {
   "cell_type": "code",
   "execution_count": null,
   "id": "sticky-medicine",
   "metadata": {},
   "outputs": [],
   "source": [
    "id(tup1)"
   ]
  },
  {
   "cell_type": "code",
   "execution_count": null,
   "id": "painted-resource",
   "metadata": {},
   "outputs": [],
   "source": [
    "type(tup1)"
   ]
  },
  {
   "cell_type": "code",
   "execution_count": null,
   "id": "consecutive-paste",
   "metadata": {},
   "outputs": [],
   "source": [
    "tup2=('10','30','60')"
   ]
  },
  {
   "cell_type": "code",
   "execution_count": null,
   "id": "opposite-arizona",
   "metadata": {},
   "outputs": [],
   "source": [
    "type(tup2)"
   ]
  },
  {
   "cell_type": "code",
   "execution_count": null,
   "id": "three-sword",
   "metadata": {},
   "outputs": [],
   "source": [
    "tup3=(10.77,30.66,0.89)"
   ]
  },
  {
   "cell_type": "code",
   "execution_count": null,
   "id": "danish-bruce",
   "metadata": {},
   "outputs": [],
   "source": [
    "tup4=('one','two',\"three\")"
   ]
  },
  {
   "cell_type": "code",
   "execution_count": null,
   "id": "closed-campaign",
   "metadata": {},
   "outputs": [],
   "source": [
    "tup5=(1,'one','two',\"three\",45.56)"
   ]
  },
  {
   "cell_type": "code",
   "execution_count": null,
   "id": "ethical-stevens",
   "metadata": {},
   "outputs": [],
   "source": [
    "tupp1=('1',[1,'one','two',\"three\",45.56]) ##QUEstion???"
   ]
  },
  {
   "cell_type": "code",
   "execution_count": null,
   "id": "computational-puppy",
   "metadata": {},
   "outputs": [],
   "source": [
    "tupp12=([34],('34'))\n",
    "\n",
    "\n",
    "more than one data element"
   ]
  },
  {
   "cell_type": "code",
   "execution_count": null,
   "id": "solid-ontario",
   "metadata": {},
   "outputs": [],
   "source": [
    "tu1=(34)"
   ]
  },
  {
   "cell_type": "code",
   "execution_count": null,
   "id": "destroyed-stranger",
   "metadata": {},
   "outputs": [],
   "source": [
    "type(tu1)"
   ]
  },
  {
   "cell_type": "code",
   "execution_count": null,
   "id": "seven-session",
   "metadata": {},
   "outputs": [],
   "source": [
    "tupN=tup16"
   ]
  },
  {
   "cell_type": "code",
   "execution_count": null,
   "id": "fantastic-integrity",
   "metadata": {},
   "outputs": [],
   "source": [
    "type(tupp12)"
   ]
  },
  {
   "cell_type": "code",
   "execution_count": null,
   "id": "accredited-beaver",
   "metadata": {},
   "outputs": [],
   "source": [
    "type(tup16)"
   ]
  },
  {
   "cell_type": "code",
   "execution_count": null,
   "id": "monetary-intro",
   "metadata": {},
   "outputs": [],
   "source": [
    "type(tup5)"
   ]
  },
  {
   "cell_type": "code",
   "execution_count": null,
   "id": "removable-lending",
   "metadata": {},
   "outputs": [],
   "source": [
    "tup5"
   ]
  },
  {
   "cell_type": "code",
   "execution_count": null,
   "id": "south-target",
   "metadata": {},
   "outputs": [],
   "source": [
    "tup6=('Asif',25,(50,100),(150,90))   #Nested tuples"
   ]
  },
  {
   "cell_type": "code",
   "execution_count": null,
   "id": "angry-space",
   "metadata": {},
   "outputs": [],
   "source": [
    "tup7=('Asif',25,[50,100],[150,90] , {'John','David'} , (99,22,33))"
   ]
  },
  {
   "cell_type": "code",
   "execution_count": null,
   "id": "solved-blanket",
   "metadata": {},
   "outputs": [],
   "source": [
    "type(tup7)"
   ]
  },
  {
   "cell_type": "code",
   "execution_count": null,
   "id": "cheap-federation",
   "metadata": {},
   "outputs": [],
   "source": [
    "x={'John','David'}"
   ]
  },
  {
   "cell_type": "code",
   "execution_count": null,
   "id": "ceramic-edgar",
   "metadata": {},
   "outputs": [],
   "source": [
    "( 34, 45) -- Tuple\n",
    "[ 34,45 ]-- list \n",
    "{ 34,45} -- set\n",
    "{id:34, id2 : 45} -- dictoniary \n",
    "String\n",
    "Number\n",
    "boolean\n"
   ]
  },
  {
   "cell_type": "code",
   "execution_count": null,
   "id": "willing-australia",
   "metadata": {},
   "outputs": [],
   "source": [
    "type(x)"
   ]
  },
  {
   "cell_type": "markdown",
   "id": "textile-netherlands",
   "metadata": {},
   "source": [
    "### Tuple indexing"
   ]
  },
  {
   "cell_type": "code",
   "execution_count": 3,
   "id": "presidential-survey",
   "metadata": {},
   "outputs": [],
   "source": [
    "tup7=('Asif',25,[50,100],[150,90] , {'John','David'} , (99,22,33))"
   ]
  },
  {
   "cell_type": "code",
   "execution_count": null,
   "id": "welcome-traveler",
   "metadata": {},
   "outputs": [],
   "source": [
    "len(tup7)"
   ]
  },
  {
   "cell_type": "code",
   "execution_count": null,
   "id": "swedish-cotton",
   "metadata": {},
   "outputs": [],
   "source": [
    "tup7[0]"
   ]
  },
  {
   "cell_type": "code",
   "execution_count": null,
   "id": "chronic-roulette",
   "metadata": {},
   "outputs": [],
   "source": [
    "tup7[3]"
   ]
  },
  {
   "cell_type": "code",
   "execution_count": null,
   "id": "developed-vitamin",
   "metadata": {},
   "outputs": [],
   "source": [
    "tup7[3][1]"
   ]
  },
  {
   "cell_type": "code",
   "execution_count": null,
   "id": "national-register",
   "metadata": {},
   "outputs": [],
   "source": [
    "tup7[2]"
   ]
  },
  {
   "cell_type": "code",
   "execution_count": 5,
   "id": "starting-climb",
   "metadata": {},
   "outputs": [
    {
     "data": {
      "text/plain": [
       "100"
      ]
     },
     "execution_count": 5,
     "metadata": {},
     "output_type": "execute_result"
    }
   ],
   "source": [
    "tup7[2][1] # nexted indexing"
   ]
  },
  {
   "cell_type": "markdown",
   "id": "improving-entrepreneur",
   "metadata": {},
   "source": [
    "### Tuple Slicing"
   ]
  },
  {
   "cell_type": "code",
   "execution_count": null,
   "id": "recreational-genome",
   "metadata": {},
   "outputs": [],
   "source": [
    "mytuple=('one','two','three','four','five','six','seven','eight','nine')"
   ]
  },
  {
   "cell_type": "code",
   "execution_count": null,
   "id": "protecting-clinic",
   "metadata": {},
   "outputs": [],
   "source": [
    "mytuple[0:3 :2] # Return all items from 0th to 3rd index location excluding the item"
   ]
  },
  {
   "cell_type": "code",
   "execution_count": null,
   "id": "appropriate-extreme",
   "metadata": {},
   "outputs": [],
   "source": [
    "mytuple[2:5]  # List all items from 2nd to 5th index location excluding the item"
   ]
  },
  {
   "cell_type": "code",
   "execution_count": null,
   "id": "ignored-updating",
   "metadata": {},
   "outputs": [],
   "source": [
    "mytuple[ : 2] # Return first three items"
   ]
  },
  {
   "cell_type": "code",
   "execution_count": null,
   "id": "optional-shakespeare",
   "metadata": {},
   "outputs": [],
   "source": [
    "mytuple[:2] # Return first two items"
   ]
  },
  {
   "cell_type": "code",
   "execution_count": null,
   "id": "stuck-battlefield",
   "metadata": {},
   "outputs": [],
   "source": [
    "mytuple[-1] # Return last three items"
   ]
  },
  {
   "cell_type": "code",
   "execution_count": null,
   "id": "defensive-helicopter",
   "metadata": {},
   "outputs": [],
   "source": [
    "mytuple[8]"
   ]
  },
  {
   "cell_type": "code",
   "execution_count": null,
   "id": "hybrid-pharmacy",
   "metadata": {},
   "outputs": [],
   "source": [
    "str=\"rohit\""
   ]
  },
  {
   "cell_type": "code",
   "execution_count": null,
   "id": "important-colorado",
   "metadata": {},
   "outputs": [],
   "source": [
    "str[5:1 :-1] # Question"
   ]
  },
  {
   "cell_type": "code",
   "execution_count": null,
   "id": "demanding-heading",
   "metadata": {},
   "outputs": [],
   "source": [
    "mytuple[-2:]  # Return last two items"
   ]
  },
  {
   "cell_type": "code",
   "execution_count": null,
   "id": "brilliant-capability",
   "metadata": {},
   "outputs": [],
   "source": [
    "mytuple[-1]  # Return last item of the tuple"
   ]
  },
  {
   "cell_type": "code",
   "execution_count": null,
   "id": "dress-correction",
   "metadata": {},
   "outputs": [],
   "source": [
    "mytuple[:] # Return whole tuple"
   ]
  },
  {
   "cell_type": "markdown",
   "id": "transsexual-scene",
   "metadata": {},
   "source": [
    "### Remove & Change Items"
   ]
  },
  {
   "cell_type": "code",
   "execution_count": null,
   "id": "curious-mother",
   "metadata": {},
   "outputs": [],
   "source": [
    "mytuple"
   ]
  },
  {
   "cell_type": "code",
   "execution_count": null,
   "id": "great-lyric",
   "metadata": {},
   "outputs": [],
   "source": [
    "id(mytuple)"
   ]
  },
  {
   "cell_type": "code",
   "execution_count": null,
   "id": "molecular-salmon",
   "metadata": {},
   "outputs": [],
   "source": [
    "del mytuple[0] # Tuples are immutable which means we can't DELETE tuple items"
   ]
  },
  {
   "cell_type": "code",
   "execution_count": null,
   "id": "dietary-circle",
   "metadata": {},
   "outputs": [],
   "source": [
    "del mytuple # Deleting entire tuple object is possible"
   ]
  },
  {
   "cell_type": "code",
   "execution_count": null,
   "id": "consistent-eight",
   "metadata": {},
   "outputs": [],
   "source": [
    "mytuple"
   ]
  },
  {
   "cell_type": "markdown",
   "id": "incredible-demand",
   "metadata": {},
   "source": [
    "### Loop through a tuple"
   ]
  },
  {
   "cell_type": "code",
   "execution_count": 6,
   "id": "brilliant-specification",
   "metadata": {},
   "outputs": [],
   "source": [
    "mytuple=('one','two','three','four','five','six','seven','eight')"
   ]
  },
  {
   "cell_type": "code",
   "execution_count": 7,
   "id": "unusual-structure",
   "metadata": {},
   "outputs": [
    {
     "name": "stdout",
     "output_type": "stream",
     "text": [
      "oneoneone\n",
      "twotwotwo\n",
      "threethreethree\n",
      "fourfourfour\n",
      "fivefivefive\n",
      "sixsixsix\n",
      "sevensevenseven\n",
      "eighteighteight\n"
     ]
    }
   ],
   "source": [
    "for i in mytuple: \n",
    "    print(i*3)"
   ]
  },
  {
   "cell_type": "code",
   "execution_count": 8,
   "id": "eleven-namibia",
   "metadata": {},
   "outputs": [
    {
     "name": "stdout",
     "output_type": "stream",
     "text": [
      "(0, 'one')\n",
      "(1, 'two')\n",
      "(2, 'three')\n",
      "(3, 'four')\n",
      "(4, 'five')\n",
      "(5, 'six')\n",
      "(6, 'seven')\n",
      "(7, 'eight')\n"
     ]
    }
   ],
   "source": [
    "for i in enumerate ( mytuple):\n",
    "    print(i)"
   ]
  },
  {
   "cell_type": "code",
   "execution_count": null,
   "id": "aging-lincoln",
   "metadata": {},
   "outputs": [],
   "source": [
    "help(enumerate)"
   ]
  },
  {
   "cell_type": "markdown",
   "id": "early-fifth",
   "metadata": {},
   "source": [
    "### Count"
   ]
  },
  {
   "cell_type": "code",
   "execution_count": null,
   "id": "small-mumbai",
   "metadata": {},
   "outputs": [],
   "source": [
    "mytuple1 =('one','two','three','four','one','one','two','three','One')"
   ]
  },
  {
   "cell_type": "code",
   "execution_count": null,
   "id": "equal-tract",
   "metadata": {},
   "outputs": [],
   "source": [
    "mytuple1.count('one')"
   ]
  },
  {
   "cell_type": "code",
   "execution_count": null,
   "id": "aggregate-solution",
   "metadata": {},
   "outputs": [],
   "source": [
    "mytuple1.count('two')"
   ]
  },
  {
   "cell_type": "code",
   "execution_count": null,
   "id": "logical-pricing",
   "metadata": {},
   "outputs": [],
   "source": [
    "mytuple1.count('four')"
   ]
  },
  {
   "cell_type": "code",
   "execution_count": null,
   "id": "ultimate-hobby",
   "metadata": {},
   "outputs": [],
   "source": [
    "\"RohitRrrr\".count(\"r\")"
   ]
  },
  {
   "cell_type": "markdown",
   "id": "authorized-mercury",
   "metadata": {},
   "source": [
    "### Tuple Membership"
   ]
  },
  {
   "cell_type": "code",
   "execution_count": 9,
   "id": "insured-repair",
   "metadata": {},
   "outputs": [],
   "source": [
    "mytuple1 =('one','two','three','four','one','one','two','three')"
   ]
  },
  {
   "cell_type": "code",
   "execution_count": null,
   "id": "explicit-worth",
   "metadata": {},
   "outputs": [],
   "source": [
    "mytuple1"
   ]
  },
  {
   "cell_type": "code",
   "execution_count": 10,
   "id": "focal-nickname",
   "metadata": {},
   "outputs": [
    {
     "data": {
      "text/plain": [
       "True"
      ]
     },
     "execution_count": 10,
     "metadata": {},
     "output_type": "execute_result"
    }
   ],
   "source": [
    "'one' in mytuple # Check if 'one' exist in the list"
   ]
  },
  {
   "cell_type": "code",
   "execution_count": null,
   "id": "irish-momentum",
   "metadata": {},
   "outputs": [],
   "source": [
    "'ten' in mytuple # Check if 'ten' exist in the list"
   ]
  },
  {
   "cell_type": "code",
   "execution_count": null,
   "id": "corrected-berkeley",
   "metadata": {},
   "outputs": [],
   "source": [
    "'ten'  in 'tent'"
   ]
  },
  {
   "cell_type": "code",
   "execution_count": 11,
   "id": "arabic-maple",
   "metadata": {},
   "outputs": [
    {
     "name": "stdout",
     "output_type": "stream",
     "text": [
      "Three is present in the tuple\n"
     ]
    }
   ],
   "source": [
    "if 'three' in mytuple : \n",
    "    # Check if 'three' exist in the list\n",
    "    print ('Three is present in the tuple')\n",
    "else:\n",
    "    print('Three is not present in the tuple')"
   ]
  },
  {
   "cell_type": "code",
   "execution_count": null,
   "id": "minute-dover",
   "metadata": {},
   "outputs": [],
   "source": [
    "if 'eleven' in mytuple : # Check if 'eleven' exist in the list\n",
    "    print ('eleven is present in the tuple')\n",
    "else:\n",
    "    print('eleven is not present in the tuple')"
   ]
  },
  {
   "cell_type": "markdown",
   "id": "manufactured-cheese",
   "metadata": {},
   "source": [
    "### Index Position"
   ]
  },
  {
   "cell_type": "code",
   "execution_count": 12,
   "id": "dying-friday",
   "metadata": {},
   "outputs": [
    {
     "data": {
      "text/plain": [
       "0"
      ]
     },
     "execution_count": 12,
     "metadata": {},
     "output_type": "execute_result"
    }
   ],
   "source": [
    "mytuple.index('one')"
   ]
  },
  {
   "cell_type": "code",
   "execution_count": null,
   "id": "contained-federal",
   "metadata": {},
   "outputs": [],
   "source": [
    "mytuple.index('two')"
   ]
  },
  {
   "cell_type": "code",
   "execution_count": null,
   "id": "successful-mailman",
   "metadata": {},
   "outputs": [],
   "source": [
    "mytuple.index('three')"
   ]
  },
  {
   "cell_type": "code",
   "execution_count": 13,
   "id": "conscious-slope",
   "metadata": {},
   "outputs": [
    {
     "data": {
      "text/plain": [
       "7"
      ]
     },
     "execution_count": 13,
     "metadata": {},
     "output_type": "execute_result"
    }
   ],
   "source": [
    "mytuple.index('eight')"
   ]
  },
  {
   "cell_type": "code",
   "execution_count": null,
   "id": "featured-biography",
   "metadata": {},
   "outputs": [],
   "source": [
    "mytuple"
   ]
  },
  {
   "cell_type": "markdown",
   "id": "measured-termination",
   "metadata": {},
   "source": [
    "### Sorting"
   ]
  },
  {
   "cell_type": "code",
   "execution_count": null,
   "id": "visible-classic",
   "metadata": {},
   "outputs": [],
   "source": [
    "mytuple2=(43,67,99,12,6,90,67)"
   ]
  },
  {
   "cell_type": "code",
   "execution_count": null,
   "id": "compound-laser",
   "metadata": {},
   "outputs": [],
   "source": [
    "id(mytuple2)"
   ]
  },
  {
   "cell_type": "code",
   "execution_count": null,
   "id": "developmental-configuration",
   "metadata": {},
   "outputs": [],
   "source": [
    "id(sorted(mytuple2)) # Returns a new sorted list and doesn't change original tuple"
   ]
  },
  {
   "cell_type": "code",
   "execution_count": null,
   "id": "adaptive-compromise",
   "metadata": {},
   "outputs": [],
   "source": [
    "sorted(mytuple2,reverse=True)"
   ]
  },
  {
   "cell_type": "markdown",
   "id": "synthetic-relation",
   "metadata": {},
   "source": [
    "# Sets"
   ]
  },
  {
   "cell_type": "markdown",
   "id": "vocational-fraction",
   "metadata": {},
   "source": [
    "1) Unordered & Unindexed collection of items. <BR>\n",
    "2) Set elements are unique. Duplicate elements are not allowed. <BR>\n",
    "3) Set elements are immutable (cannot be changed). <BR>\n",
    "4) Set itself is mutable. We can add or remove items from it. <BR>"
   ]
  },
  {
   "cell_type": "markdown",
   "id": "speaking-incident",
   "metadata": {},
   "source": [
    "## Set Creation"
   ]
  },
  {
   "cell_type": "code",
   "execution_count": 14,
   "id": "undefined-murray",
   "metadata": {},
   "outputs": [
    {
     "data": {
      "text/plain": [
       "{1, 2, 3, 4, 5}"
      ]
     },
     "execution_count": 14,
     "metadata": {},
     "output_type": "execute_result"
    }
   ],
   "source": [
    "myset={1,2,3,4,5}  # Set of numbers\n",
    "myset"
   ]
  },
  {
   "cell_type": "code",
   "execution_count": null,
   "id": "encouraging-advantage",
   "metadata": {},
   "outputs": [],
   "source": [
    "()--- Tuple\n",
    "{}-- Set \n",
    "[]-- List \n",
    "\n",
    "{key :Value}-- DIctinoary \n",
    "\n",
    "Tuple=(8)---- "
   ]
  },
  {
   "cell_type": "code",
   "execution_count": 15,
   "id": "finnish-psychiatry",
   "metadata": {},
   "outputs": [
    {
     "data": {
      "text/plain": [
       "set"
      ]
     },
     "execution_count": 15,
     "metadata": {},
     "output_type": "execute_result"
    }
   ],
   "source": [
    "type(myset)"
   ]
  },
  {
   "cell_type": "code",
   "execution_count": 16,
   "id": "accredited-creek",
   "metadata": {},
   "outputs": [],
   "source": [
    "myset2={'Asif','John','Tyrion'}\n",
    "# Set of Strings"
   ]
  },
  {
   "cell_type": "code",
   "execution_count": null,
   "id": "accepting-chassis",
   "metadata": {},
   "outputs": [],
   "source": [
    "myset2"
   ]
  },
  {
   "cell_type": "code",
   "execution_count": 17,
   "id": "metropolitan-maximum",
   "metadata": {},
   "outputs": [],
   "source": [
    "myset3={10,20,\"Hola\", (11,22,32)}  # Mixed datatypes"
   ]
  },
  {
   "cell_type": "code",
   "execution_count": null,
   "id": "casual-porcelain",
   "metadata": {},
   "outputs": [],
   "source": [
    "myset3"
   ]
  },
  {
   "cell_type": "code",
   "execution_count": 73,
   "id": "medium-dealing",
   "metadata": {},
   "outputs": [],
   "source": [
    "myset3={10,20,\"Hola\", (11,22,32)}"
   ]
  },
  {
   "cell_type": "code",
   "execution_count": 76,
   "id": "supported-federation",
   "metadata": {},
   "outputs": [],
   "source": [
    "myset3.add(10)"
   ]
  },
  {
   "cell_type": "code",
   "execution_count": 77,
   "id": "expressed-vision",
   "metadata": {},
   "outputs": [
    {
     "data": {
      "text/plain": [
       "{(11, 22, 32), 10, 20, 'Hola'}"
      ]
     },
     "execution_count": 77,
     "metadata": {},
     "output_type": "execute_result"
    }
   ],
   "source": [
    "myset3"
   ]
  },
  {
   "cell_type": "code",
   "execution_count": 68,
   "id": "chronic-palmer",
   "metadata": {},
   "outputs": [],
   "source": [
    "myfrzset =frozenset (myset3)"
   ]
  },
  {
   "cell_type": "code",
   "execution_count": 69,
   "id": "indian-funeral",
   "metadata": {},
   "outputs": [
    {
     "data": {
      "text/plain": [
       "frozenset({(11, 22, 32), 10, 20, 'Hola'})"
      ]
     },
     "execution_count": 69,
     "metadata": {},
     "output_type": "execute_result"
    }
   ],
   "source": [
    "myfrzset"
   ]
  },
  {
   "cell_type": "code",
   "execution_count": 70,
   "id": "active-heavy",
   "metadata": {},
   "outputs": [
    {
     "data": {
      "text/plain": [
       "frozenset"
      ]
     },
     "execution_count": 70,
     "metadata": {},
     "output_type": "execute_result"
    }
   ],
   "source": [
    "type(myfrzset)"
   ]
  },
  {
   "cell_type": "code",
   "execution_count": 72,
   "id": "egyptian-insight",
   "metadata": {},
   "outputs": [
    {
     "ename": "AttributeError",
     "evalue": "'frozenset' object has no attribute 'add'",
     "output_type": "error",
     "traceback": [
      "\u001b[1;31m---------------------------------------------------------------------------\u001b[0m",
      "\u001b[1;31mAttributeError\u001b[0m                            Traceback (most recent call last)",
      "\u001b[1;32m<ipython-input-72-9e7a3139468a>\u001b[0m in \u001b[0;36m<module>\u001b[1;34m\u001b[0m\n\u001b[1;32m----> 1\u001b[1;33m \u001b[0mmyfrzset\u001b[0m\u001b[1;33m.\u001b[0m\u001b[0madd\u001b[0m\u001b[1;33m(\u001b[0m\u001b[1;34m\"11\"\u001b[0m\u001b[1;33m)\u001b[0m\u001b[1;33m\u001b[0m\u001b[1;33m\u001b[0m\u001b[0m\n\u001b[0m",
      "\u001b[1;31mAttributeError\u001b[0m: 'frozenset' object has no attribute 'add'"
     ]
    }
   ],
   "source": [
    "myfrzset.add(\"11\")"
   ]
  },
  {
   "cell_type": "code",
   "execution_count": 18,
   "id": "described-milan",
   "metadata": {},
   "outputs": [
    {
     "ename": "TypeError",
     "evalue": "unhashable type: 'list'",
     "output_type": "error",
     "traceback": [
      "\u001b[1;31m---------------------------------------------------------------------------\u001b[0m",
      "\u001b[1;31mTypeError\u001b[0m                                 Traceback (most recent call last)",
      "\u001b[1;32m<ipython-input-18-3464b5db2dc1>\u001b[0m in \u001b[0;36m<module>\u001b[1;34m\u001b[0m\n\u001b[1;32m----> 1\u001b[1;33m \u001b[0mmyset3\u001b[0m\u001b[1;33m=\u001b[0m\u001b[1;33m{\u001b[0m\u001b[1;36m10\u001b[0m\u001b[1;33m,\u001b[0m\u001b[1;36m20\u001b[0m\u001b[1;33m,\u001b[0m\u001b[1;34m\"Hola\"\u001b[0m\u001b[1;33m,\u001b[0m \u001b[1;33m[\u001b[0m\u001b[1;36m11\u001b[0m\u001b[1;33m,\u001b[0m\u001b[1;36m22\u001b[0m\u001b[1;33m,\u001b[0m\u001b[1;36m32\u001b[0m\u001b[1;33m]\u001b[0m\u001b[1;33m}\u001b[0m \u001b[1;31m# set doesn't allow mutable items like lis\u001b[0m\u001b[1;33m\u001b[0m\u001b[1;33m\u001b[0m\u001b[0m\n\u001b[0m\u001b[0;32m      2\u001b[0m \u001b[0mmyset3\u001b[0m  \u001b[1;31m##You cannot add a list to a set.\u001b[0m\u001b[1;33m\u001b[0m\u001b[1;33m\u001b[0m\u001b[0m\n",
      "\u001b[1;31mTypeError\u001b[0m: unhashable type: 'list'"
     ]
    }
   ],
   "source": [
    "myset3={10,20,\"Hola\", [11,22,32]} # set doesn't allow mutable items like lis\n",
    "myset3  ##You cannot add a list to a set."
   ]
  },
  {
   "cell_type": "markdown",
   "id": "patent-worry",
   "metadata": {},
   "source": [
    "### Loop through a Set"
   ]
  },
  {
   "cell_type": "code",
   "execution_count": 21,
   "id": "steady-tracy",
   "metadata": {},
   "outputs": [
    {
     "name": "stdout",
     "output_type": "stream",
     "text": [
      "four\n",
      "one\n",
      "seven\n",
      "eight\n",
      "six\n",
      "two\n",
      "three\n",
      "five\n"
     ]
    }
   ],
   "source": [
    "myset={'one','two','three','four','five','six','seven','eight'}\n",
    "\n",
    "\n",
    "for i in myset :\n",
    "    print(i)"
   ]
  },
  {
   "cell_type": "markdown",
   "id": "alone-expansion",
   "metadata": {},
   "source": [
    "### Set Membership"
   ]
  },
  {
   "cell_type": "code",
   "execution_count": null,
   "id": "disturbed-pleasure",
   "metadata": {},
   "outputs": [],
   "source": [
    "myset"
   ]
  },
  {
   "cell_type": "code",
   "execution_count": 22,
   "id": "consolidated-imperial",
   "metadata": {},
   "outputs": [
    {
     "data": {
      "text/plain": [
       "True"
      ]
     },
     "execution_count": 22,
     "metadata": {},
     "output_type": "execute_result"
    }
   ],
   "source": [
    "'one' in myset"
   ]
  },
  {
   "cell_type": "markdown",
   "id": "acting-distributor",
   "metadata": {},
   "source": [
    "### Add & Remove Items"
   ]
  },
  {
   "cell_type": "code",
   "execution_count": 23,
   "id": "devoted-economics",
   "metadata": {},
   "outputs": [
    {
     "data": {
      "text/plain": [
       "{'eight', 'five', 'four', 'one', 'seven', 'six', 'three', 'two'}"
      ]
     },
     "execution_count": 23,
     "metadata": {},
     "output_type": "execute_result"
    }
   ],
   "source": [
    "myset # Add and Remove , NO Replace"
   ]
  },
  {
   "cell_type": "code",
   "execution_count": 32,
   "id": "molecular-moisture",
   "metadata": {},
   "outputs": [],
   "source": [
    "myset.add('NINE')"
   ]
  },
  {
   "cell_type": "code",
   "execution_count": null,
   "id": "polish-census",
   "metadata": {},
   "outputs": [],
   "source": [
    "myset"
   ]
  },
  {
   "cell_type": "code",
   "execution_count": 25,
   "id": "completed-football",
   "metadata": {},
   "outputs": [],
   "source": [
    "myset.update(['TEN','ELEVEN','TWELVE']) # Add multiple item to a set using update"
   ]
  },
  {
   "cell_type": "code",
   "execution_count": 28,
   "id": "elder-attribute",
   "metadata": {},
   "outputs": [
    {
     "data": {
      "text/plain": [
       "{'ELEVEN',\n",
       " 'NINE',\n",
       " 'TEN',\n",
       " 'TWELVE',\n",
       " 'eight',\n",
       " 'five',\n",
       " 'four',\n",
       " 'one',\n",
       " 'seven',\n",
       " 'six',\n",
       " 'three',\n",
       " 'two'}"
      ]
     },
     "execution_count": 28,
     "metadata": {},
     "output_type": "execute_result"
    }
   ],
   "source": [
    "myset"
   ]
  },
  {
   "cell_type": "code",
   "execution_count": 34,
   "id": "choice-funds",
   "metadata": {},
   "outputs": [
    {
     "ename": "KeyError",
     "evalue": "'NINE'",
     "output_type": "error",
     "traceback": [
      "\u001b[1;31m---------------------------------------------------------------------------\u001b[0m",
      "\u001b[1;31mKeyError\u001b[0m                                  Traceback (most recent call last)",
      "\u001b[1;32m<ipython-input-34-20aeccfb97c4>\u001b[0m in \u001b[0;36m<module>\u001b[1;34m\u001b[0m\n\u001b[1;32m----> 1\u001b[1;33m \u001b[0mmyset\u001b[0m\u001b[1;33m.\u001b[0m\u001b[0mremove\u001b[0m\u001b[1;33m(\u001b[0m\u001b[1;34m'NINE'\u001b[0m\u001b[1;33m)\u001b[0m \u001b[1;31m# remove item in a set using remove() method\u001b[0m\u001b[1;33m\u001b[0m\u001b[1;33m\u001b[0m\u001b[0m\n\u001b[0m\u001b[0;32m      2\u001b[0m \u001b[0mmyset\u001b[0m\u001b[1;33m\u001b[0m\u001b[1;33m\u001b[0m\u001b[0m\n",
      "\u001b[1;31mKeyError\u001b[0m: 'NINE'"
     ]
    }
   ],
   "source": [
    "myset.remove('NINE') # remove item in a set using remove() method\n",
    "myset"
   ]
  },
  {
   "cell_type": "code",
   "execution_count": 35,
   "id": "appropriate-hindu",
   "metadata": {},
   "outputs": [
    {
     "data": {
      "text/plain": [
       "{'ELEVEN',\n",
       " 'TWELVE',\n",
       " 'eight',\n",
       " 'five',\n",
       " 'four',\n",
       " 'one',\n",
       " 'seven',\n",
       " 'six',\n",
       " 'three',\n",
       " 'two'}"
      ]
     },
     "execution_count": 35,
     "metadata": {},
     "output_type": "execute_result"
    }
   ],
   "source": [
    "myset.discard('NINE') # remove item in a set using remove() method\n",
    "myset"
   ]
  },
  {
   "cell_type": "code",
   "execution_count": 30,
   "id": "respected-excerpt",
   "metadata": {},
   "outputs": [
    {
     "data": {
      "text/plain": [
       "{'ELEVEN',\n",
       " 'TWELVE',\n",
       " 'eight',\n",
       " 'five',\n",
       " 'four',\n",
       " 'one',\n",
       " 'seven',\n",
       " 'six',\n",
       " 'three',\n",
       " 'two'}"
      ]
     },
     "execution_count": 30,
     "metadata": {},
     "output_type": "execute_result"
    }
   ],
   "source": [
    "myset.discard('TEN') # remove item from a set using discard() method\n",
    "myset"
   ]
  },
  {
   "cell_type": "code",
   "execution_count": 40,
   "id": "expanded-appointment",
   "metadata": {},
   "outputs": [
    {
     "data": {
      "text/plain": [
       "set()"
      ]
     },
     "execution_count": 40,
     "metadata": {},
     "output_type": "execute_result"
    }
   ],
   "source": [
    "myset.clear() # Delete all items in a set\n",
    "myset"
   ]
  },
  {
   "cell_type": "code",
   "execution_count": 41,
   "id": "organic-handbook",
   "metadata": {},
   "outputs": [
    {
     "data": {
      "text/plain": [
       "set()"
      ]
     },
     "execution_count": 41,
     "metadata": {},
     "output_type": "execute_result"
    }
   ],
   "source": [
    "myset"
   ]
  },
  {
   "cell_type": "markdown",
   "id": "accepting-crash",
   "metadata": {},
   "source": [
    "### Copy Set"
   ]
  },
  {
   "cell_type": "code",
   "execution_count": 42,
   "id": "sensitive-green",
   "metadata": {},
   "outputs": [],
   "source": [
    "myset={'one','two','three','four','five','six','seven','eight'}"
   ]
  },
  {
   "cell_type": "code",
   "execution_count": 43,
   "id": "buried-necessity",
   "metadata": {},
   "outputs": [],
   "source": [
    "myset1 = myset"
   ]
  },
  {
   "cell_type": "code",
   "execution_count": 44,
   "id": "weighted-bible",
   "metadata": {},
   "outputs": [
    {
     "data": {
      "text/plain": [
       "(1643973556256, 1643973556256)"
      ]
     },
     "execution_count": 44,
     "metadata": {},
     "output_type": "execute_result"
    }
   ],
   "source": [
    "id(myset) ,id(myset1)"
   ]
  },
  {
   "cell_type": "code",
   "execution_count": 45,
   "id": "formal-integer",
   "metadata": {},
   "outputs": [
    {
     "data": {
      "text/plain": [
       "True"
      ]
     },
     "execution_count": 45,
     "metadata": {},
     "output_type": "execute_result"
    }
   ],
   "source": [
    "id(myset) == id(myset1)"
   ]
  },
  {
   "cell_type": "code",
   "execution_count": 46,
   "id": "public-lucas",
   "metadata": {},
   "outputs": [],
   "source": [
    "myset.add(\"Rohit\")"
   ]
  },
  {
   "cell_type": "code",
   "execution_count": 47,
   "id": "juvenile-people",
   "metadata": {},
   "outputs": [
    {
     "data": {
      "text/plain": [
       "{'Rohit', 'eight', 'five', 'four', 'one', 'seven', 'six', 'three', 'two'}"
      ]
     },
     "execution_count": 47,
     "metadata": {},
     "output_type": "execute_result"
    }
   ],
   "source": [
    "myset"
   ]
  },
  {
   "cell_type": "code",
   "execution_count": 48,
   "id": "chinese-recipient",
   "metadata": {},
   "outputs": [
    {
     "data": {
      "text/plain": [
       "{'Rohit', 'eight', 'five', 'four', 'one', 'seven', 'six', 'three', 'two'}"
      ]
     },
     "execution_count": 48,
     "metadata": {},
     "output_type": "execute_result"
    }
   ],
   "source": [
    "myset1"
   ]
  },
  {
   "cell_type": "code",
   "execution_count": null,
   "id": "crucial-racing",
   "metadata": {},
   "outputs": [],
   "source": []
  },
  {
   "cell_type": "code",
   "execution_count": 50,
   "id": "narrow-maldives",
   "metadata": {},
   "outputs": [
    {
     "data": {
      "text/plain": [
       "{'Rohit', 'eight', 'five', 'four', 'one', 'seven', 'six', 'three', 'two'}"
      ]
     },
     "execution_count": 50,
     "metadata": {},
     "output_type": "execute_result"
    }
   ],
   "source": [
    "my_set2=myset.copy() # Create a copy of the list\n",
    "my_set"
   ]
  },
  {
   "cell_type": "code",
   "execution_count": 54,
   "id": "fluid-johns",
   "metadata": {},
   "outputs": [],
   "source": [
    "my_set2.remove(\"Rohit\")"
   ]
  },
  {
   "cell_type": "code",
   "execution_count": 55,
   "id": "frequent-staff",
   "metadata": {},
   "outputs": [
    {
     "data": {
      "text/plain": [
       "{'eight', 'five', 'four', 'one', 'seven', 'six', 'three', 'two'}"
      ]
     },
     "execution_count": 55,
     "metadata": {},
     "output_type": "execute_result"
    }
   ],
   "source": [
    "my_set2"
   ]
  },
  {
   "cell_type": "code",
   "execution_count": 56,
   "id": "muslim-cabinet",
   "metadata": {},
   "outputs": [
    {
     "data": {
      "text/plain": [
       "{'Rohit', 'eight', 'five', 'four', 'one', 'seven', 'six', 'three', 'two'}"
      ]
     },
     "execution_count": 56,
     "metadata": {},
     "output_type": "execute_result"
    }
   ],
   "source": [
    "my_set"
   ]
  },
  {
   "cell_type": "code",
   "execution_count": 51,
   "id": "statutory-barrel",
   "metadata": {},
   "outputs": [
    {
     "data": {
      "text/plain": [
       "1643974529088"
      ]
     },
     "execution_count": 51,
     "metadata": {},
     "output_type": "execute_result"
    }
   ],
   "source": [
    "id(my_set) # The address of my_set will be different from myset because my_set is"
   ]
  },
  {
   "cell_type": "code",
   "execution_count": 52,
   "id": "linear-contents",
   "metadata": {},
   "outputs": [
    {
     "data": {
      "text/plain": [
       "1643974529312"
      ]
     },
     "execution_count": 52,
     "metadata": {},
     "output_type": "execute_result"
    }
   ],
   "source": [
    "id(my_set2)"
   ]
  },
  {
   "cell_type": "code",
   "execution_count": 53,
   "id": "smoking-forty",
   "metadata": {},
   "outputs": [
    {
     "data": {
      "text/plain": [
       "False"
      ]
     },
     "execution_count": 53,
     "metadata": {},
     "output_type": "execute_result"
    }
   ],
   "source": [
    "id(my_set2)== id(my_set)"
   ]
  },
  {
   "cell_type": "code",
   "execution_count": null,
   "id": "lucky-discount",
   "metadata": {},
   "outputs": [],
   "source": []
  },
  {
   "cell_type": "code",
   "execution_count": null,
   "id": "olympic-gossip",
   "metadata": {},
   "outputs": [],
   "source": [
    "myset.add('nine')\n",
    "myset"
   ]
  },
  {
   "cell_type": "code",
   "execution_count": null,
   "id": "democratic-engineer",
   "metadata": {},
   "outputs": [],
   "source": [
    "myset1 # myset1 will be also impacted as it is pointing to the same Set"
   ]
  },
  {
   "cell_type": "code",
   "execution_count": null,
   "id": "inclusive-acrobat",
   "metadata": {},
   "outputs": [],
   "source": [
    "my_set # Copy of the set won't be impacted due to changes made on the original"
   ]
  },
  {
   "cell_type": "markdown",
   "id": "desperate-toddler",
   "metadata": {},
   "source": [
    "###  Set Operation"
   ]
  },
  {
   "cell_type": "code",
   "execution_count": 57,
   "id": "extraordinary-listing",
   "metadata": {},
   "outputs": [],
   "source": [
    "A={1,2,3,4,5}\n",
    "B={4,5,6,7,8}\n",
    "C={8,9,10}"
   ]
  },
  {
   "cell_type": "markdown",
   "id": "aggregate-boards",
   "metadata": {},
   "source": [
    "#### Union"
   ]
  },
  {
   "cell_type": "code",
   "execution_count": 58,
   "id": "tough-child",
   "metadata": {},
   "outputs": [
    {
     "data": {
      "text/plain": [
       "{1, 2, 3, 4, 5, 6, 7, 8}"
      ]
     },
     "execution_count": 58,
     "metadata": {},
     "output_type": "execute_result"
    }
   ],
   "source": [
    "A|B  # Union of A and B (All elements from both sets. NO DUPLICATES)"
   ]
  },
  {
   "cell_type": "code",
   "execution_count": 59,
   "id": "proprietary-earth",
   "metadata": {},
   "outputs": [
    {
     "data": {
      "text/plain": [
       "{1, 2, 3, 4, 5, 6, 7, 8}"
      ]
     },
     "execution_count": 59,
     "metadata": {},
     "output_type": "execute_result"
    }
   ],
   "source": [
    "A.union(B)\n",
    "# Union of A and B"
   ]
  },
  {
   "cell_type": "code",
   "execution_count": 60,
   "id": "grateful-death",
   "metadata": {},
   "outputs": [
    {
     "data": {
      "text/plain": [
       "{1, 2, 3, 4, 5, 6, 7, 8, 9, 10}"
      ]
     },
     "execution_count": 60,
     "metadata": {},
     "output_type": "execute_result"
    }
   ],
   "source": [
    "A.union(B,C)\n",
    "# Union of A, B and C."
   ]
  },
  {
   "cell_type": "code",
   "execution_count": 63,
   "id": "straight-authorization",
   "metadata": {},
   "outputs": [
    {
     "data": {
      "text/plain": [
       "{1, 2, 3, 4, 5, 6, 7, 8, 9, 10}"
      ]
     },
     "execution_count": 63,
     "metadata": {},
     "output_type": "execute_result"
    }
   ],
   "source": [
    "A|B|C"
   ]
  },
  {
   "cell_type": "markdown",
   "id": "explicit-henry",
   "metadata": {},
   "source": [
    "#### Update"
   ]
  },
  {
   "cell_type": "code",
   "execution_count": null,
   "id": "appropriate-contract",
   "metadata": {},
   "outputs": [],
   "source": [
    "\"\"\"\n",
    "Updates the set calling the update() method with union of A , B & C.\n",
    "For below example Set A will be updated with union of A,B & C.\n",
    "\"\"\"\n",
    "A.update(B,C)\n",
    "A"
   ]
  },
  {
   "cell_type": "code",
   "execution_count": 2,
   "id": "narrative-testing",
   "metadata": {},
   "outputs": [],
   "source": [
    "A={1,2,3,4,5}\n",
    "B={4,5,6,7,8}"
   ]
  },
  {
   "cell_type": "code",
   "execution_count": 3,
   "id": "brutal-boston",
   "metadata": {},
   "outputs": [
    {
     "data": {
      "text/plain": [
       "False"
      ]
     },
     "execution_count": 3,
     "metadata": {},
     "output_type": "execute_result"
    }
   ],
   "source": [
    "2==2 & 3==3"
   ]
  },
  {
   "cell_type": "code",
   "execution_count": 4,
   "id": "coated-sapphire",
   "metadata": {},
   "outputs": [
    {
     "data": {
      "text/plain": [
       "{4, 5}"
      ]
     },
     "execution_count": 4,
     "metadata": {},
     "output_type": "execute_result"
    }
   ],
   "source": [
    "A&B"
   ]
  },
  {
   "cell_type": "code",
   "execution_count": 5,
   "id": "norwegian-athens",
   "metadata": {},
   "outputs": [
    {
     "data": {
      "text/plain": [
       "{4, 5}"
      ]
     },
     "execution_count": 5,
     "metadata": {},
     "output_type": "execute_result"
    }
   ],
   "source": [
    "A.intersection(B) #Intersection of A and B"
   ]
  },
  {
   "cell_type": "code",
   "execution_count": 6,
   "id": "olive-brush",
   "metadata": {},
   "outputs": [
    {
     "data": {
      "text/plain": [
       "{4, 5}"
      ]
     },
     "execution_count": 6,
     "metadata": {},
     "output_type": "execute_result"
    }
   ],
   "source": [
    "\"\"\"\n",
    "Updates the set calling the intersection_update() method with the intersection of\n",
    "For below example Set A will be updated with the intersection of A & B.\n",
    "\"\"\"\n",
    "A.intersection_update(B) \n",
    "A"
   ]
  },
  {
   "cell_type": "markdown",
   "id": "ignored-history",
   "metadata": {},
   "source": [
    "#### Difference"
   ]
  },
  {
   "cell_type": "code",
   "execution_count": 8,
   "id": "guilty-planner",
   "metadata": {},
   "outputs": [],
   "source": [
    "A={1,2,3,4,5}\n",
    "B={4,5,6,7,8}"
   ]
  },
  {
   "cell_type": "code",
   "execution_count": 10,
   "id": "medieval-score",
   "metadata": {},
   "outputs": [
    {
     "data": {
      "text/plain": [
       "{1, 2, 3}"
      ]
     },
     "execution_count": 10,
     "metadata": {},
     "output_type": "execute_result"
    }
   ],
   "source": [
    "A - B # set of elements that are only in A but not in B"
   ]
  },
  {
   "cell_type": "code",
   "execution_count": 11,
   "id": "imported-electric",
   "metadata": {},
   "outputs": [
    {
     "data": {
      "text/plain": [
       "{1, 2, 3}"
      ]
     },
     "execution_count": 11,
     "metadata": {},
     "output_type": "execute_result"
    }
   ],
   "source": [
    "A.difference(B)"
   ]
  },
  {
   "cell_type": "code",
   "execution_count": 12,
   "id": "quick-export",
   "metadata": {},
   "outputs": [
    {
     "data": {
      "text/plain": [
       "{6, 7, 8}"
      ]
     },
     "execution_count": 12,
     "metadata": {},
     "output_type": "execute_result"
    }
   ],
   "source": [
    "B-A"
   ]
  },
  {
   "cell_type": "code",
   "execution_count": 13,
   "id": "convenient-rolling",
   "metadata": {},
   "outputs": [
    {
     "data": {
      "text/plain": [
       "{6, 7, 8}"
      ]
     },
     "execution_count": 13,
     "metadata": {},
     "output_type": "execute_result"
    }
   ],
   "source": [
    "B.difference(A)"
   ]
  },
  {
   "cell_type": "code",
   "execution_count": 14,
   "id": "vulnerable-thumbnail",
   "metadata": {},
   "outputs": [
    {
     "data": {
      "text/plain": [
       "{6, 7, 8}"
      ]
     },
     "execution_count": 14,
     "metadata": {},
     "output_type": "execute_result"
    }
   ],
   "source": [
    "\"\"\"\n",
    "Updates the set calling the difference_update() method with the difference of set\n",
    "For below example Set B will be updated with the difference of B & A.\n",
    "\"\"\"\n",
    "B.difference_update(A)\n",
    "B"
   ]
  },
  {
   "cell_type": "code",
   "execution_count": 15,
   "id": "dedicated-sewing",
   "metadata": {},
   "outputs": [
    {
     "data": {
      "text/plain": [
       "{6, 7, 8}"
      ]
     },
     "execution_count": 15,
     "metadata": {},
     "output_type": "execute_result"
    }
   ],
   "source": [
    "B"
   ]
  },
  {
   "cell_type": "markdown",
   "id": "junior-nelson",
   "metadata": {},
   "source": [
    "### Subset , Superset & Disjoint"
   ]
  },
  {
   "cell_type": "code",
   "execution_count": 16,
   "id": "ordinary-growth",
   "metadata": {},
   "outputs": [],
   "source": [
    "A={1,2,3,4,5,6,7,8,9}\n",
    "B={4,5,6,7,8}\n",
    "C={10,20,30,40}"
   ]
  },
  {
   "cell_type": "code",
   "execution_count": 17,
   "id": "offensive-audio",
   "metadata": {},
   "outputs": [
    {
     "data": {
      "text/plain": [
       "True"
      ]
     },
     "execution_count": 17,
     "metadata": {},
     "output_type": "execute_result"
    }
   ],
   "source": [
    "B.issubset(A)"
   ]
  },
  {
   "cell_type": "code",
   "execution_count": 18,
   "id": "intellectual-performance",
   "metadata": {},
   "outputs": [
    {
     "data": {
      "text/plain": [
       "True"
      ]
     },
     "execution_count": 18,
     "metadata": {},
     "output_type": "execute_result"
    }
   ],
   "source": [
    "A.issuperset(B)"
   ]
  },
  {
   "cell_type": "code",
   "execution_count": 19,
   "id": "common-juvenile",
   "metadata": {},
   "outputs": [
    {
     "data": {
      "text/plain": [
       "True"
      ]
     },
     "execution_count": 19,
     "metadata": {},
     "output_type": "execute_result"
    }
   ],
   "source": [
    "C.isdisjoint(A)# Two sets are said to be disjoint sets if they have no common element"
   ]
  },
  {
   "cell_type": "markdown",
   "id": "connected-tissue",
   "metadata": {},
   "source": [
    "### other Build in funciton"
   ]
  },
  {
   "cell_type": "code",
   "execution_count": 20,
   "id": "lined-james",
   "metadata": {},
   "outputs": [
    {
     "data": {
      "text/plain": [
       "45"
      ]
     },
     "execution_count": 20,
     "metadata": {},
     "output_type": "execute_result"
    }
   ],
   "source": [
    "sum(A)"
   ]
  },
  {
   "cell_type": "code",
   "execution_count": 21,
   "id": "synthetic-stream",
   "metadata": {},
   "outputs": [
    {
     "data": {
      "text/plain": [
       "9"
      ]
     },
     "execution_count": 21,
     "metadata": {},
     "output_type": "execute_result"
    }
   ],
   "source": [
    "max(A)"
   ]
  },
  {
   "cell_type": "code",
   "execution_count": 22,
   "id": "elect-mission",
   "metadata": {},
   "outputs": [
    {
     "data": {
      "text/plain": [
       "1"
      ]
     },
     "execution_count": 22,
     "metadata": {},
     "output_type": "execute_result"
    }
   ],
   "source": [
    "min(A)"
   ]
  },
  {
   "cell_type": "code",
   "execution_count": 23,
   "id": "fiscal-frequency",
   "metadata": {},
   "outputs": [
    {
     "data": {
      "text/plain": [
       "9"
      ]
     },
     "execution_count": 23,
     "metadata": {},
     "output_type": "execute_result"
    }
   ],
   "source": [
    "len(A)"
   ]
  },
  {
   "cell_type": "code",
   "execution_count": 24,
   "id": "compliant-moisture",
   "metadata": {},
   "outputs": [
    {
     "data": {
      "text/plain": [
       "[(0, 1), (1, 2), (2, 3), (3, 4), (4, 5), (5, 6), (6, 7), (7, 8), (8, 9)]"
      ]
     },
     "execution_count": 24,
     "metadata": {},
     "output_type": "execute_result"
    }
   ],
   "source": [
    "list(enumerate(A))"
   ]
  },
  {
   "cell_type": "code",
   "execution_count": 25,
   "id": "municipal-clarity",
   "metadata": {},
   "outputs": [
    {
     "data": {
      "text/plain": [
       "<enumerate at 0x2782179f0c0>"
      ]
     },
     "execution_count": 25,
     "metadata": {},
     "output_type": "execute_result"
    }
   ],
   "source": [
    "enumerate(A)"
   ]
  },
  {
   "cell_type": "code",
   "execution_count": 26,
   "id": "genetic-management",
   "metadata": {},
   "outputs": [],
   "source": [
    "D=sorted(A,reverse=True)"
   ]
  },
  {
   "cell_type": "code",
   "execution_count": 27,
   "id": "everyday-frost",
   "metadata": {},
   "outputs": [
    {
     "data": {
      "text/plain": [
       "[9, 8, 7, 6, 5, 4, 3, 2, 1]"
      ]
     },
     "execution_count": 27,
     "metadata": {},
     "output_type": "execute_result"
    }
   ],
   "source": [
    "D"
   ]
  },
  {
   "cell_type": "markdown",
   "id": "eight-renaissance",
   "metadata": {},
   "source": [
    "# Dictionary"
   ]
  },
  {
   "cell_type": "markdown",
   "id": "alert-landing",
   "metadata": {},
   "source": [
    "<B> Dictionary is a mutable data type in Python. <BR>\n",
    "A python dictionary is a collection of key and value pairs separated by a colon (:) & enclosedin curly braces {}. <BR>\n",
    "Keys must be unique in a dictionary, duplicate values are allowed."
   ]
  },
  {
   "cell_type": "code",
   "execution_count": 28,
   "id": "deluxe-partition",
   "metadata": {},
   "outputs": [],
   "source": [
    "mydict=dict()"
   ]
  },
  {
   "cell_type": "code",
   "execution_count": 29,
   "id": "incident-middle",
   "metadata": {},
   "outputs": [],
   "source": [
    "mydict={}"
   ]
  },
  {
   "cell_type": "code",
   "execution_count": 31,
   "id": "reported-convention",
   "metadata": {},
   "outputs": [
    {
     "ename": "SyntaxError",
     "evalue": "invalid syntax (<ipython-input-31-8d97dca78925>, line 1)",
     "output_type": "error",
     "traceback": [
      "\u001b[1;36m  File \u001b[1;32m\"<ipython-input-31-8d97dca78925>\"\u001b[1;36m, line \u001b[1;32m1\u001b[0m\n\u001b[1;33m    import this PyPDF2\u001b[0m\n\u001b[1;37m                ^\u001b[0m\n\u001b[1;31mSyntaxError\u001b[0m\u001b[1;31m:\u001b[0m invalid syntax\n"
     ]
    }
   ],
   "source": [
    " import this PyPDF2"
   ]
  },
  {
   "cell_type": "code",
   "execution_count": 32,
   "id": "occasional-breath",
   "metadata": {},
   "outputs": [],
   "source": [
    "mydict={1:'one',2:'two',3:'three'}"
   ]
  },
  {
   "cell_type": "code",
   "execution_count": 33,
   "id": "straight-prairie",
   "metadata": {},
   "outputs": [],
   "source": [
    "  mydict=dict({1:'one',2:'two',3:'three'})  "
   ]
  },
  {
   "cell_type": "code",
   "execution_count": 34,
   "id": "boolean-voluntary",
   "metadata": {},
   "outputs": [],
   "source": [
    " mydict=dict({'A':'one',\"B'\":'two',\"C\":'three'}) "
   ]
  },
  {
   "cell_type": "code",
   "execution_count": 36,
   "id": "younger-cross",
   "metadata": {},
   "outputs": [
    {
     "data": {
      "text/plain": [
       "dict_keys(['A', \"B'\", 'C'])"
      ]
     },
     "execution_count": 36,
     "metadata": {},
     "output_type": "execute_result"
    }
   ],
   "source": [
    "mydict.keys()"
   ]
  },
  {
   "cell_type": "code",
   "execution_count": 38,
   "id": "spiritual-crisis",
   "metadata": {},
   "outputs": [
    {
     "data": {
      "text/plain": [
       "dict_values(['one', 'two', 'three'])"
      ]
     },
     "execution_count": 38,
     "metadata": {},
     "output_type": "execute_result"
    }
   ],
   "source": [
    "mydict.values()"
   ]
  },
  {
   "cell_type": "code",
   "execution_count": 39,
   "id": "blank-canadian",
   "metadata": {},
   "outputs": [
    {
     "data": {
      "text/plain": [
       "dict_items([('A', 'one'), (\"B'\", 'two'), ('C', 'three')])"
      ]
     },
     "execution_count": 39,
     "metadata": {},
     "output_type": "execute_result"
    }
   ],
   "source": [
    "mydict.items()"
   ]
  },
  {
   "cell_type": "code",
   "execution_count": 42,
   "id": "comprehensive-florence",
   "metadata": {},
   "outputs": [],
   "source": [
    "mydict=dict({'A':'one',\"B'\":'two',\"C\":['three','Four','Five']}) "
   ]
  },
  {
   "cell_type": "code",
   "execution_count": 44,
   "id": "express-going",
   "metadata": {},
   "outputs": [
    {
     "data": {
      "text/plain": [
       "dict_items([('A', 'one'), (\"B'\", 'two'), ('C', ['three', 'Four', 'Five'])])"
      ]
     },
     "execution_count": 44,
     "metadata": {},
     "output_type": "execute_result"
    }
   ],
   "source": [
    "mydict.items()"
   ]
  },
  {
   "cell_type": "code",
   "execution_count": 45,
   "id": "continuous-invalid",
   "metadata": {},
   "outputs": [],
   "source": [
    "mydict=dict({'A':'one',\"B'\":'two',\"C\":['three','Four','Five'],\"D\":(1,2,3)}) "
   ]
  },
  {
   "cell_type": "code",
   "execution_count": 46,
   "id": "covered-bridal",
   "metadata": {},
   "outputs": [
    {
     "data": {
      "text/plain": [
       "<function dict.items>"
      ]
     },
     "execution_count": 46,
     "metadata": {},
     "output_type": "execute_result"
    }
   ],
   "source": [
    "mydict.items"
   ]
  },
  {
   "cell_type": "code",
   "execution_count": 49,
   "id": "civilian-collar",
   "metadata": {},
   "outputs": [],
   "source": [
    "keys1={1,2,3,4}"
   ]
  },
  {
   "cell_type": "code",
   "execution_count": 50,
   "id": "rural-collector",
   "metadata": {},
   "outputs": [],
   "source": [
    "mydict3=dict.fromkeys(keys1)"
   ]
  },
  {
   "cell_type": "code",
   "execution_count": 51,
   "id": "immediate-pharmacology",
   "metadata": {},
   "outputs": [
    {
     "data": {
      "text/plain": [
       "dict_items([(1, None), (2, None), (3, None), (4, None)])"
      ]
     },
     "execution_count": 51,
     "metadata": {},
     "output_type": "execute_result"
    }
   ],
   "source": [
    "mydict3.items()"
   ]
  },
  {
   "cell_type": "code",
   "execution_count": 52,
   "id": "differential-liechtenstein",
   "metadata": {},
   "outputs": [],
   "source": [
    "mydict3=dict.fromkeys(keys1,10)"
   ]
  },
  {
   "cell_type": "code",
   "execution_count": 53,
   "id": "blond-program",
   "metadata": {},
   "outputs": [
    {
     "data": {
      "text/plain": [
       "dict_items([(1, 10), (2, 10), (3, 10), (4, 10)])"
      ]
     },
     "execution_count": 53,
     "metadata": {},
     "output_type": "execute_result"
    }
   ],
   "source": [
    "mydict3.items()"
   ]
  },
  {
   "cell_type": "code",
   "execution_count": 54,
   "id": "sized-dispute",
   "metadata": {},
   "outputs": [],
   "source": [
    "keys1={1,2,3,4}\n",
    "values=[10,203,0,40]\n",
    "\n",
    "mydict4=dict.fromkeys(keys1,values)"
   ]
  },
  {
   "cell_type": "code",
   "execution_count": 56,
   "id": "wound-leonard",
   "metadata": {},
   "outputs": [],
   "source": [
    "#mydict4.items()"
   ]
  },
  {
   "cell_type": "code",
   "execution_count": 58,
   "id": "solid-testing",
   "metadata": {},
   "outputs": [],
   "source": [
    "values.append(50)"
   ]
  },
  {
   "cell_type": "code",
   "execution_count": 60,
   "id": "entertaining-juvenile",
   "metadata": {},
   "outputs": [],
   "source": [
    "#mydict4.items()"
   ]
  },
  {
   "cell_type": "markdown",
   "id": "downtown-guidance",
   "metadata": {},
   "source": [
    "### Accessing them"
   ]
  },
  {
   "cell_type": "code",
   "execution_count": 62,
   "id": "micro-onion",
   "metadata": {},
   "outputs": [
    {
     "data": {
      "text/plain": [
       "'one'"
      ]
     },
     "execution_count": 62,
     "metadata": {},
     "output_type": "execute_result"
    }
   ],
   "source": [
    "mydict[\"A\"]"
   ]
  },
  {
   "cell_type": "code",
   "execution_count": 63,
   "id": "broadband-fisher",
   "metadata": {},
   "outputs": [
    {
     "data": {
      "text/plain": [
       "'one'"
      ]
     },
     "execution_count": 63,
     "metadata": {},
     "output_type": "execute_result"
    }
   ],
   "source": [
    "mydict.get(\"A\")"
   ]
  },
  {
   "cell_type": "markdown",
   "id": "recovered-cause",
   "metadata": {},
   "source": [
    "### Add, Remove & Change Items"
   ]
  },
  {
   "cell_type": "code",
   "execution_count": 64,
   "id": "worldwide-overall",
   "metadata": {},
   "outputs": [],
   "source": [
    "mydict1={'Name':'Asif','ID':12345,'DOB':1991,'Address':'Hilsinki'}"
   ]
  },
  {
   "cell_type": "code",
   "execution_count": 66,
   "id": "german-dealing",
   "metadata": {},
   "outputs": [
    {
     "data": {
      "text/plain": [
       "dict_items([('Name', 'Asif'), ('ID', 12345), ('DOB', 1991), ('Address', 'Hilsinki')])"
      ]
     },
     "execution_count": 66,
     "metadata": {},
     "output_type": "execute_result"
    }
   ],
   "source": [
    "mydict1.items()"
   ]
  },
  {
   "cell_type": "code",
   "execution_count": 67,
   "id": "official-minority",
   "metadata": {},
   "outputs": [],
   "source": [
    "mydict1['DOB']=1992"
   ]
  },
  {
   "cell_type": "code",
   "execution_count": 68,
   "id": "addressed-reply",
   "metadata": {},
   "outputs": [
    {
     "data": {
      "text/plain": [
       "dict_items([('Name', 'Asif'), ('ID', 12345), ('DOB', 1992), ('Address', 'Hilsinki')])"
      ]
     },
     "execution_count": 68,
     "metadata": {},
     "output_type": "execute_result"
    }
   ],
   "source": [
    "mydict1.items()"
   ]
  },
  {
   "cell_type": "code",
   "execution_count": 70,
   "id": "classified-assessment",
   "metadata": {},
   "outputs": [],
   "source": [
    "mydict1['Job']='Analyst'"
   ]
  },
  {
   "cell_type": "code",
   "execution_count": 71,
   "id": "violent-butterfly",
   "metadata": {},
   "outputs": [
    {
     "data": {
      "text/plain": [
       "'Analyst'"
      ]
     },
     "execution_count": 71,
     "metadata": {},
     "output_type": "execute_result"
    }
   ],
   "source": [
    "mydict1.pop('Job') # Removing items in the dictionary using Pop method"
   ]
  },
  {
   "cell_type": "code",
   "execution_count": 72,
   "id": "demographic-communist",
   "metadata": {},
   "outputs": [
    {
     "data": {
      "text/plain": [
       "('Address', 'Hilsinki')"
      ]
     },
     "execution_count": 72,
     "metadata": {},
     "output_type": "execute_result"
    }
   ],
   "source": [
    "mydict1.popitem() # A random item is removed"
   ]
  },
  {
   "cell_type": "code",
   "execution_count": 73,
   "id": "authorized-valuation",
   "metadata": {},
   "outputs": [],
   "source": [
    "del[mydict1['ID']] # Removing item using del method"
   ]
  },
  {
   "cell_type": "code",
   "execution_count": 74,
   "id": "cordless-adapter",
   "metadata": {},
   "outputs": [],
   "source": [
    "mydict1.clear() # Delete all items of the dictionary using clear method"
   ]
  },
  {
   "cell_type": "code",
   "execution_count": 75,
   "id": "turkish-biotechnology",
   "metadata": {},
   "outputs": [],
   "source": [
    "del mydict1"
   ]
  },
  {
   "cell_type": "markdown",
   "id": "dental-maryland",
   "metadata": {},
   "source": [
    "### Copy Dict"
   ]
  },
  {
   "cell_type": "code",
   "execution_count": 76,
   "id": "integrated-survivor",
   "metadata": {},
   "outputs": [],
   "source": [
    "mydict1={'Name':'Asif','ID':12345,'DOB':1991,'Address':'Hilsinki'}"
   ]
  },
  {
   "cell_type": "code",
   "execution_count": 77,
   "id": "committed-cricket",
   "metadata": {},
   "outputs": [],
   "source": [
    "mydict2= mydict1"
   ]
  },
  {
   "cell_type": "code",
   "execution_count": 78,
   "id": "cooperative-berkeley",
   "metadata": {},
   "outputs": [
    {
     "data": {
      "text/plain": [
       "(2714981941568, 2714981941568)"
      ]
     },
     "execution_count": 78,
     "metadata": {},
     "output_type": "execute_result"
    }
   ],
   "source": [
    "id(mydict2),id(mydict1)"
   ]
  },
  {
   "cell_type": "code",
   "execution_count": 79,
   "id": "forty-stanley",
   "metadata": {},
   "outputs": [],
   "source": [
    "mydict4=mydict1.copy()"
   ]
  },
  {
   "cell_type": "code",
   "execution_count": 80,
   "id": "residential-italy",
   "metadata": {},
   "outputs": [
    {
     "data": {
      "text/plain": [
       "(2714981940992, 2714981941568)"
      ]
     },
     "execution_count": 80,
     "metadata": {},
     "output_type": "execute_result"
    }
   ],
   "source": [
    "id(mydict4),id(mydict1)"
   ]
  },
  {
   "cell_type": "markdown",
   "id": "loving-coach",
   "metadata": {},
   "source": [
    "###  Loop through a Dictionary"
   ]
  },
  {
   "cell_type": "code",
   "execution_count": 81,
   "id": "spanish-companion",
   "metadata": {},
   "outputs": [],
   "source": [
    "mydict1={'Name':'Asif','ID':12345,'DOB':1991,'Address':'Hilsinki'}"
   ]
  },
  {
   "cell_type": "code",
   "execution_count": 82,
   "id": "indoor-account",
   "metadata": {},
   "outputs": [
    {
     "name": "stdout",
     "output_type": "stream",
     "text": [
      "Name : Asif\n",
      "ID : 12345\n",
      "DOB : 1991\n",
      "Address : Hilsinki\n"
     ]
    }
   ],
   "source": [
    "for i in mydict1:\n",
    "    print(i,':',mydict1[i])"
   ]
  },
  {
   "cell_type": "code",
   "execution_count": 83,
   "id": "unable-guest",
   "metadata": {},
   "outputs": [
    {
     "name": "stdout",
     "output_type": "stream",
     "text": [
      "Asif\n",
      "12345\n",
      "1991\n",
      "Hilsinki\n"
     ]
    }
   ],
   "source": [
    "for i in mydict1:\n",
    "    print(mydict1[i])\n",
    "# Dictionary items"
   ]
  },
  {
   "cell_type": "code",
   "execution_count": null,
   "id": "patient-authority",
   "metadata": {},
   "outputs": [],
   "source": []
  }
 ],
 "metadata": {
  "kernelspec": {
   "display_name": "Python 3",
   "language": "python",
   "name": "python3"
  },
  "language_info": {
   "codemirror_mode": {
    "name": "ipython",
    "version": 3
   },
   "file_extension": ".py",
   "mimetype": "text/x-python",
   "name": "python",
   "nbconvert_exporter": "python",
   "pygments_lexer": "ipython3",
   "version": "3.9.1"
  }
 },
 "nbformat": 4,
 "nbformat_minor": 5
}
